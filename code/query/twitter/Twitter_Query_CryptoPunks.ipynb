{
  "nbformat": 4,
  "nbformat_minor": 0,
  "metadata": {
    "colab": {
      "provenance": [],
      "toc_visible": true
    },
    "kernelspec": {
      "name": "python3",
      "display_name": "Python 3"
    },
    "language_info": {
      "name": "python"
    },
    "gpuClass": "standard"
  },
  "cells": [
    {
      "cell_type": "markdown",
      "source": [
        "# Preliminary Import"
      ],
      "metadata": {
        "id": "135uu7rGexFp"
      }
    },
    {
      "cell_type": "code",
      "source": [
        "!pip install snscrape"
      ],
      "metadata": {
        "colab": {
          "base_uri": "https://localhost:8080/"
        },
        "id": "mXzi6ACJPvBW",
        "outputId": "a0fb285b-c529-45cd-b468-ef4d946ace1a"
      },
      "execution_count": null,
      "outputs": [
        {
          "output_type": "stream",
          "name": "stdout",
          "text": [
            "Looking in indexes: https://pypi.org/simple, https://us-python.pkg.dev/colab-wheels/public/simple/\n",
            "Collecting snscrape\n",
            "  Downloading snscrape-0.6.0.20230303-py3-none-any.whl (71 kB)\n",
            "\u001b[2K     \u001b[90m━━━━━━━━━━━━━━━━━━━━━━━━━━━━━━━━━━━━━━━━\u001b[0m \u001b[32m71.6/71.6 KB\u001b[0m \u001b[31m4.6 MB/s\u001b[0m eta \u001b[36m0:00:00\u001b[0m\n",
            "\u001b[?25hRequirement already satisfied: requests[socks] in /usr/local/lib/python3.8/dist-packages (from snscrape) (2.25.1)\n",
            "Requirement already satisfied: lxml in /usr/local/lib/python3.8/dist-packages (from snscrape) (4.9.2)\n",
            "Requirement already satisfied: filelock in /usr/local/lib/python3.8/dist-packages (from snscrape) (3.9.0)\n",
            "Requirement already satisfied: pytz in /usr/local/lib/python3.8/dist-packages (from snscrape) (2022.7.1)\n",
            "Requirement already satisfied: beautifulsoup4 in /usr/local/lib/python3.8/dist-packages (from snscrape) (4.6.3)\n",
            "Requirement already satisfied: urllib3<1.27,>=1.21.1 in /usr/local/lib/python3.8/dist-packages (from requests[socks]->snscrape) (1.26.14)\n",
            "Requirement already satisfied: certifi>=2017.4.17 in /usr/local/lib/python3.8/dist-packages (from requests[socks]->snscrape) (2022.12.7)\n",
            "Requirement already satisfied: idna<3,>=2.5 in /usr/local/lib/python3.8/dist-packages (from requests[socks]->snscrape) (2.10)\n",
            "Requirement already satisfied: chardet<5,>=3.0.2 in /usr/local/lib/python3.8/dist-packages (from requests[socks]->snscrape) (4.0.0)\n",
            "Requirement already satisfied: PySocks!=1.5.7,>=1.5.6 in /usr/local/lib/python3.8/dist-packages (from requests[socks]->snscrape) (1.7.1)\n",
            "Installing collected packages: snscrape\n",
            "Successfully installed snscrape-0.6.0.20230303\n"
          ]
        }
      ]
    },
    {
      "cell_type": "code",
      "source": [
        "import snscrape.modules.twitter as sntwitter\n",
        "import pandas as pd"
      ],
      "metadata": {
        "id": "Gm3DjnJrPwm6"
      },
      "execution_count": null,
      "outputs": []
    },
    {
      "cell_type": "markdown",
      "source": [
        "# 2017-2020"
      ],
      "metadata": {
        "id": "yaizW0ADe2Uk"
      }
    },
    {
      "cell_type": "code",
      "source": [
        "# Creating list to append tweet data to\n",
        "tweets_list = []\n",
        "\n",
        "# Using TwitterSearchScraper to scrape data and append tweets to list\n",
        "for i,tweet in enumerate(sntwitter.TwitterSearchScraper('cryptopunk since:2017-06-23 until:2020-12-31 lang:en min_faves:0 exclude:retweets').get_items()):\n",
        "  tweets_list.append([tweet.date, tweet.content, tweet.hashtags]) #tweet.id"
      ],
      "metadata": {
        "colab": {
          "base_uri": "https://localhost:8080/"
        },
        "id": "wPIaizSkPj6r",
        "outputId": "9f2e1d7f-569a-48dc-f711-4cfeff9f713e"
      },
      "execution_count": null,
      "outputs": [
        {
          "output_type": "stream",
          "name": "stderr",
          "text": [
            "<ipython-input-4-4d2d485dd07b>:6: FutureWarning: content is deprecated, use rawContent instead\n",
            "  tweets_list.append([tweet.date, tweet.content, tweet.hashtags]) #tweet.id\n"
          ]
        }
      ]
    },
    {
      "cell_type": "code",
      "source": [
        "tweets_list_2020 = pd.DataFrame(tweets_list, columns=['Date', 'Text', 'Hashtags'])"
      ],
      "metadata": {
        "id": "IiqXu5xm24Lq"
      },
      "execution_count": null,
      "outputs": []
    },
    {
      "cell_type": "code",
      "source": [
        "tweets_list_2020.head()"
      ],
      "metadata": {
        "colab": {
          "base_uri": "https://localhost:8080/",
          "height": 206
        },
        "outputId": "bbb8df2b-5376-4366-efe9-d6a4303d3831",
        "id": "c7JFoj3Y24Lq"
      },
      "execution_count": null,
      "outputs": [
        {
          "output_type": "execute_result",
          "data": {
            "text/plain": [
              "                       Date  \\\n",
              "0 2020-12-30 21:48:42+00:00   \n",
              "1 2020-12-30 14:06:41+00:00   \n",
              "2 2020-12-30 12:54:15+00:00   \n",
              "3 2020-12-29 21:53:31+00:00   \n",
              "4 2020-12-29 20:15:49+00:00   \n",
              "\n",
              "                                                Text  \\\n",
              "0                    @martinkrung cryptopunk pirates   \n",
              "1  It came up twice in the last days now in the #...   \n",
              "2  And we have two cheap #CryptoPunk auctions aga...   \n",
              "3  considering buying a cryptopunk. why did i not...   \n",
              "4  @NettieBella To get people into crypto I start...   \n",
              "\n",
              "                                Hashtags  \n",
              "0                                   None  \n",
              "1              [CryptoPunks, CryptoPunk]  \n",
              "2  [CryptoPunk, cryptopunksfloorhistory]  \n",
              "3                                   None  \n",
              "4                                   None  "
            ],
            "text/html": [
              "\n",
              "  <div id=\"df-66573e50-0b6c-4071-8657-403addd3d2cc\">\n",
              "    <div class=\"colab-df-container\">\n",
              "      <div>\n",
              "<style scoped>\n",
              "    .dataframe tbody tr th:only-of-type {\n",
              "        vertical-align: middle;\n",
              "    }\n",
              "\n",
              "    .dataframe tbody tr th {\n",
              "        vertical-align: top;\n",
              "    }\n",
              "\n",
              "    .dataframe thead th {\n",
              "        text-align: right;\n",
              "    }\n",
              "</style>\n",
              "<table border=\"1\" class=\"dataframe\">\n",
              "  <thead>\n",
              "    <tr style=\"text-align: right;\">\n",
              "      <th></th>\n",
              "      <th>Date</th>\n",
              "      <th>Text</th>\n",
              "      <th>Hashtags</th>\n",
              "    </tr>\n",
              "  </thead>\n",
              "  <tbody>\n",
              "    <tr>\n",
              "      <th>0</th>\n",
              "      <td>2020-12-30 21:48:42+00:00</td>\n",
              "      <td>@martinkrung cryptopunk pirates</td>\n",
              "      <td>None</td>\n",
              "    </tr>\n",
              "    <tr>\n",
              "      <th>1</th>\n",
              "      <td>2020-12-30 14:06:41+00:00</td>\n",
              "      <td>It came up twice in the last days now in the #...</td>\n",
              "      <td>[CryptoPunks, CryptoPunk]</td>\n",
              "    </tr>\n",
              "    <tr>\n",
              "      <th>2</th>\n",
              "      <td>2020-12-30 12:54:15+00:00</td>\n",
              "      <td>And we have two cheap #CryptoPunk auctions aga...</td>\n",
              "      <td>[CryptoPunk, cryptopunksfloorhistory]</td>\n",
              "    </tr>\n",
              "    <tr>\n",
              "      <th>3</th>\n",
              "      <td>2020-12-29 21:53:31+00:00</td>\n",
              "      <td>considering buying a cryptopunk. why did i not...</td>\n",
              "      <td>None</td>\n",
              "    </tr>\n",
              "    <tr>\n",
              "      <th>4</th>\n",
              "      <td>2020-12-29 20:15:49+00:00</td>\n",
              "      <td>@NettieBella To get people into crypto I start...</td>\n",
              "      <td>None</td>\n",
              "    </tr>\n",
              "  </tbody>\n",
              "</table>\n",
              "</div>\n",
              "      <button class=\"colab-df-convert\" onclick=\"convertToInteractive('df-66573e50-0b6c-4071-8657-403addd3d2cc')\"\n",
              "              title=\"Convert this dataframe to an interactive table.\"\n",
              "              style=\"display:none;\">\n",
              "        \n",
              "  <svg xmlns=\"http://www.w3.org/2000/svg\" height=\"24px\"viewBox=\"0 0 24 24\"\n",
              "       width=\"24px\">\n",
              "    <path d=\"M0 0h24v24H0V0z\" fill=\"none\"/>\n",
              "    <path d=\"M18.56 5.44l.94 2.06.94-2.06 2.06-.94-2.06-.94-.94-2.06-.94 2.06-2.06.94zm-11 1L8.5 8.5l.94-2.06 2.06-.94-2.06-.94L8.5 2.5l-.94 2.06-2.06.94zm10 10l.94 2.06.94-2.06 2.06-.94-2.06-.94-.94-2.06-.94 2.06-2.06.94z\"/><path d=\"M17.41 7.96l-1.37-1.37c-.4-.4-.92-.59-1.43-.59-.52 0-1.04.2-1.43.59L10.3 9.45l-7.72 7.72c-.78.78-.78 2.05 0 2.83L4 21.41c.39.39.9.59 1.41.59.51 0 1.02-.2 1.41-.59l7.78-7.78 2.81-2.81c.8-.78.8-2.07 0-2.86zM5.41 20L4 18.59l7.72-7.72 1.47 1.35L5.41 20z\"/>\n",
              "  </svg>\n",
              "      </button>\n",
              "      \n",
              "  <style>\n",
              "    .colab-df-container {\n",
              "      display:flex;\n",
              "      flex-wrap:wrap;\n",
              "      gap: 12px;\n",
              "    }\n",
              "\n",
              "    .colab-df-convert {\n",
              "      background-color: #E8F0FE;\n",
              "      border: none;\n",
              "      border-radius: 50%;\n",
              "      cursor: pointer;\n",
              "      display: none;\n",
              "      fill: #1967D2;\n",
              "      height: 32px;\n",
              "      padding: 0 0 0 0;\n",
              "      width: 32px;\n",
              "    }\n",
              "\n",
              "    .colab-df-convert:hover {\n",
              "      background-color: #E2EBFA;\n",
              "      box-shadow: 0px 1px 2px rgba(60, 64, 67, 0.3), 0px 1px 3px 1px rgba(60, 64, 67, 0.15);\n",
              "      fill: #174EA6;\n",
              "    }\n",
              "\n",
              "    [theme=dark] .colab-df-convert {\n",
              "      background-color: #3B4455;\n",
              "      fill: #D2E3FC;\n",
              "    }\n",
              "\n",
              "    [theme=dark] .colab-df-convert:hover {\n",
              "      background-color: #434B5C;\n",
              "      box-shadow: 0px 1px 3px 1px rgba(0, 0, 0, 0.15);\n",
              "      filter: drop-shadow(0px 1px 2px rgba(0, 0, 0, 0.3));\n",
              "      fill: #FFFFFF;\n",
              "    }\n",
              "  </style>\n",
              "\n",
              "      <script>\n",
              "        const buttonEl =\n",
              "          document.querySelector('#df-66573e50-0b6c-4071-8657-403addd3d2cc button.colab-df-convert');\n",
              "        buttonEl.style.display =\n",
              "          google.colab.kernel.accessAllowed ? 'block' : 'none';\n",
              "\n",
              "        async function convertToInteractive(key) {\n",
              "          const element = document.querySelector('#df-66573e50-0b6c-4071-8657-403addd3d2cc');\n",
              "          const dataTable =\n",
              "            await google.colab.kernel.invokeFunction('convertToInteractive',\n",
              "                                                     [key], {});\n",
              "          if (!dataTable) return;\n",
              "\n",
              "          const docLinkHtml = 'Like what you see? Visit the ' +\n",
              "            '<a target=\"_blank\" href=https://colab.research.google.com/notebooks/data_table.ipynb>data table notebook</a>'\n",
              "            + ' to learn more about interactive tables.';\n",
              "          element.innerHTML = '';\n",
              "          dataTable['output_type'] = 'display_data';\n",
              "          await google.colab.output.renderOutput(dataTable, element);\n",
              "          const docLink = document.createElement('div');\n",
              "          docLink.innerHTML = docLinkHtml;\n",
              "          element.appendChild(docLink);\n",
              "        }\n",
              "      </script>\n",
              "    </div>\n",
              "  </div>\n",
              "  "
            ]
          },
          "metadata": {},
          "execution_count": 7
        }
      ]
    },
    {
      "cell_type": "code",
      "source": [
        "tweets_list_2020.to_csv(\"tweets_cryptopunk_2020.csv\")"
      ],
      "metadata": {
        "id": "ObUIDyAS24Lr"
      },
      "execution_count": null,
      "outputs": []
    },
    {
      "cell_type": "markdown",
      "source": [
        "# 2021-2021.05"
      ],
      "metadata": {
        "id": "FUrgvCDie5Vj"
      }
    },
    {
      "cell_type": "code",
      "source": [
        "# Creating list to append tweet data to\n",
        "tweets_list = []\n",
        "\n",
        "# Using TwitterSearchScraper to scrape data and append tweets to list\n",
        "for i,tweet in enumerate(sntwitter.TwitterSearchScraper('cryptopunk since:2020-12-31 until:2021-05-31 lang:en min_faves:0 exclude:retweets').get_items()):\n",
        "  tweets_list.append([tweet.date, tweet.content, tweet.hashtags]) #tweet.id"
      ],
      "metadata": {
        "colab": {
          "base_uri": "https://localhost:8080/"
        },
        "outputId": "1f77beff-8a95-4de1-9ea0-05c5a3ab6071",
        "id": "nWVcjCLvQ5j0"
      },
      "execution_count": null,
      "outputs": [
        {
          "output_type": "stream",
          "name": "stderr",
          "text": [
            "<ipython-input-9-d49fc5129324>:6: FutureWarning: content is deprecated, use rawContent instead\n",
            "  tweets_list.append([tweet.date, tweet.content, tweet.hashtags]) #tweet.id\n"
          ]
        }
      ]
    },
    {
      "cell_type": "code",
      "source": [
        "tweets_list_2021_05 = pd.DataFrame(tweets_list, columns=['Date', 'Text', 'Hashtags'])"
      ],
      "metadata": {
        "id": "qadQn4fsQ5j1"
      },
      "execution_count": null,
      "outputs": []
    },
    {
      "cell_type": "code",
      "source": [
        "tweets_list_2021_05.head()"
      ],
      "metadata": {
        "colab": {
          "base_uri": "https://localhost:8080/",
          "height": 206
        },
        "outputId": "e9714282-1f56-4d6c-83fa-18132c7ceeb9",
        "id": "ZaPeE1MzQ5j1"
      },
      "execution_count": null,
      "outputs": [
        {
          "output_type": "execute_result",
          "data": {
            "text/plain": [
              "                       Date  \\\n",
              "0 2021-05-30 23:57:19+00:00   \n",
              "1 2021-05-30 23:56:02+00:00   \n",
              "2 2021-05-30 23:38:51+00:00   \n",
              "3 2021-05-30 23:25:39+00:00   \n",
              "4 2021-05-30 23:24:38+00:00   \n",
              "\n",
              "                                                Text      Hashtags  \n",
              "0  Apparently I have an affinity for #Cryptopunk ...  [Cryptopunk]  \n",
              "1  Loving my new DaVinci Punk. Based on #Cryptopu...  [Cryptopunk]  \n",
              "2  The supposed @BoredApeYC and @larvalabs Crypto...          None  \n",
              "3  @pranksyNFT @cryptoslamio @BoredApeYC @nbatops...          None  \n",
              "4  CRYPTOPUNK NFT FAMILY MEMBERS!!!!  AT A DISCOU...          None  "
            ],
            "text/html": [
              "\n",
              "  <div id=\"df-3a235630-b6e5-43c6-a1da-89d085d6daf4\">\n",
              "    <div class=\"colab-df-container\">\n",
              "      <div>\n",
              "<style scoped>\n",
              "    .dataframe tbody tr th:only-of-type {\n",
              "        vertical-align: middle;\n",
              "    }\n",
              "\n",
              "    .dataframe tbody tr th {\n",
              "        vertical-align: top;\n",
              "    }\n",
              "\n",
              "    .dataframe thead th {\n",
              "        text-align: right;\n",
              "    }\n",
              "</style>\n",
              "<table border=\"1\" class=\"dataframe\">\n",
              "  <thead>\n",
              "    <tr style=\"text-align: right;\">\n",
              "      <th></th>\n",
              "      <th>Date</th>\n",
              "      <th>Text</th>\n",
              "      <th>Hashtags</th>\n",
              "    </tr>\n",
              "  </thead>\n",
              "  <tbody>\n",
              "    <tr>\n",
              "      <th>0</th>\n",
              "      <td>2021-05-30 23:57:19+00:00</td>\n",
              "      <td>Apparently I have an affinity for #Cryptopunk ...</td>\n",
              "      <td>[Cryptopunk]</td>\n",
              "    </tr>\n",
              "    <tr>\n",
              "      <th>1</th>\n",
              "      <td>2021-05-30 23:56:02+00:00</td>\n",
              "      <td>Loving my new DaVinci Punk. Based on #Cryptopu...</td>\n",
              "      <td>[Cryptopunk]</td>\n",
              "    </tr>\n",
              "    <tr>\n",
              "      <th>2</th>\n",
              "      <td>2021-05-30 23:38:51+00:00</td>\n",
              "      <td>The supposed @BoredApeYC and @larvalabs Crypto...</td>\n",
              "      <td>None</td>\n",
              "    </tr>\n",
              "    <tr>\n",
              "      <th>3</th>\n",
              "      <td>2021-05-30 23:25:39+00:00</td>\n",
              "      <td>@pranksyNFT @cryptoslamio @BoredApeYC @nbatops...</td>\n",
              "      <td>None</td>\n",
              "    </tr>\n",
              "    <tr>\n",
              "      <th>4</th>\n",
              "      <td>2021-05-30 23:24:38+00:00</td>\n",
              "      <td>CRYPTOPUNK NFT FAMILY MEMBERS!!!!  AT A DISCOU...</td>\n",
              "      <td>None</td>\n",
              "    </tr>\n",
              "  </tbody>\n",
              "</table>\n",
              "</div>\n",
              "      <button class=\"colab-df-convert\" onclick=\"convertToInteractive('df-3a235630-b6e5-43c6-a1da-89d085d6daf4')\"\n",
              "              title=\"Convert this dataframe to an interactive table.\"\n",
              "              style=\"display:none;\">\n",
              "        \n",
              "  <svg xmlns=\"http://www.w3.org/2000/svg\" height=\"24px\"viewBox=\"0 0 24 24\"\n",
              "       width=\"24px\">\n",
              "    <path d=\"M0 0h24v24H0V0z\" fill=\"none\"/>\n",
              "    <path d=\"M18.56 5.44l.94 2.06.94-2.06 2.06-.94-2.06-.94-.94-2.06-.94 2.06-2.06.94zm-11 1L8.5 8.5l.94-2.06 2.06-.94-2.06-.94L8.5 2.5l-.94 2.06-2.06.94zm10 10l.94 2.06.94-2.06 2.06-.94-2.06-.94-.94-2.06-.94 2.06-2.06.94z\"/><path d=\"M17.41 7.96l-1.37-1.37c-.4-.4-.92-.59-1.43-.59-.52 0-1.04.2-1.43.59L10.3 9.45l-7.72 7.72c-.78.78-.78 2.05 0 2.83L4 21.41c.39.39.9.59 1.41.59.51 0 1.02-.2 1.41-.59l7.78-7.78 2.81-2.81c.8-.78.8-2.07 0-2.86zM5.41 20L4 18.59l7.72-7.72 1.47 1.35L5.41 20z\"/>\n",
              "  </svg>\n",
              "      </button>\n",
              "      \n",
              "  <style>\n",
              "    .colab-df-container {\n",
              "      display:flex;\n",
              "      flex-wrap:wrap;\n",
              "      gap: 12px;\n",
              "    }\n",
              "\n",
              "    .colab-df-convert {\n",
              "      background-color: #E8F0FE;\n",
              "      border: none;\n",
              "      border-radius: 50%;\n",
              "      cursor: pointer;\n",
              "      display: none;\n",
              "      fill: #1967D2;\n",
              "      height: 32px;\n",
              "      padding: 0 0 0 0;\n",
              "      width: 32px;\n",
              "    }\n",
              "\n",
              "    .colab-df-convert:hover {\n",
              "      background-color: #E2EBFA;\n",
              "      box-shadow: 0px 1px 2px rgba(60, 64, 67, 0.3), 0px 1px 3px 1px rgba(60, 64, 67, 0.15);\n",
              "      fill: #174EA6;\n",
              "    }\n",
              "\n",
              "    [theme=dark] .colab-df-convert {\n",
              "      background-color: #3B4455;\n",
              "      fill: #D2E3FC;\n",
              "    }\n",
              "\n",
              "    [theme=dark] .colab-df-convert:hover {\n",
              "      background-color: #434B5C;\n",
              "      box-shadow: 0px 1px 3px 1px rgba(0, 0, 0, 0.15);\n",
              "      filter: drop-shadow(0px 1px 2px rgba(0, 0, 0, 0.3));\n",
              "      fill: #FFFFFF;\n",
              "    }\n",
              "  </style>\n",
              "\n",
              "      <script>\n",
              "        const buttonEl =\n",
              "          document.querySelector('#df-3a235630-b6e5-43c6-a1da-89d085d6daf4 button.colab-df-convert');\n",
              "        buttonEl.style.display =\n",
              "          google.colab.kernel.accessAllowed ? 'block' : 'none';\n",
              "\n",
              "        async function convertToInteractive(key) {\n",
              "          const element = document.querySelector('#df-3a235630-b6e5-43c6-a1da-89d085d6daf4');\n",
              "          const dataTable =\n",
              "            await google.colab.kernel.invokeFunction('convertToInteractive',\n",
              "                                                     [key], {});\n",
              "          if (!dataTable) return;\n",
              "\n",
              "          const docLinkHtml = 'Like what you see? Visit the ' +\n",
              "            '<a target=\"_blank\" href=https://colab.research.google.com/notebooks/data_table.ipynb>data table notebook</a>'\n",
              "            + ' to learn more about interactive tables.';\n",
              "          element.innerHTML = '';\n",
              "          dataTable['output_type'] = 'display_data';\n",
              "          await google.colab.output.renderOutput(dataTable, element);\n",
              "          const docLink = document.createElement('div');\n",
              "          docLink.innerHTML = docLinkHtml;\n",
              "          element.appendChild(docLink);\n",
              "        }\n",
              "      </script>\n",
              "    </div>\n",
              "  </div>\n",
              "  "
            ]
          },
          "metadata": {},
          "execution_count": 14
        }
      ]
    },
    {
      "cell_type": "code",
      "source": [
        "tweets_list_2021_05.to_csv(\"tweets_cryptopunk_2021_05.csv\")"
      ],
      "metadata": {
        "id": "XVntj1TsQ5j1"
      },
      "execution_count": null,
      "outputs": []
    },
    {
      "cell_type": "markdown",
      "source": [
        "# 2021.06-2021.08"
      ],
      "metadata": {
        "id": "XISNWJu7e9ei"
      }
    },
    {
      "cell_type": "code",
      "source": [
        "# Creating list to append tweet data to\n",
        "tweets_list = []\n",
        "\n",
        "# Using TwitterSearchScraper to scrape data and append tweets to list\n",
        "for i,tweet in enumerate(sntwitter.TwitterSearchScraper('cryptopunk since:2021-05-31 until:2021-08-31 lang:en min_faves:0 exclude:retweets').get_items()):\n",
        "  tweets_list.append([tweet.date, tweet.content, tweet.hashtags]) #tweet.id"
      ],
      "metadata": {
        "colab": {
          "base_uri": "https://localhost:8080/"
        },
        "outputId": "c025b0db-5c38-44a3-cb13-6af55a84761b",
        "id": "SIxCXWTlT9gU"
      },
      "execution_count": null,
      "outputs": [
        {
          "output_type": "stream",
          "name": "stderr",
          "text": [
            "<ipython-input-16-e7c55be41e99>:6: FutureWarning: content is deprecated, use rawContent instead\n",
            "  tweets_list.append([tweet.date, tweet.content, tweet.hashtags]) #tweet.id\n"
          ]
        }
      ]
    },
    {
      "cell_type": "code",
      "source": [
        "tweets_list_2021_08 = pd.DataFrame(tweets_list, columns=['Date', 'Text', 'Hashtags'])"
      ],
      "metadata": {
        "id": "BP9kwQOYT9gV"
      },
      "execution_count": null,
      "outputs": []
    },
    {
      "cell_type": "code",
      "source": [
        "tweets_list_2021_08.head()"
      ],
      "metadata": {
        "colab": {
          "base_uri": "https://localhost:8080/",
          "height": 206
        },
        "outputId": "25ef87db-df60-4f08-f863-ef51e4e1a532",
        "id": "Z7JX3W8gT9gW"
      },
      "execution_count": null,
      "outputs": [
        {
          "output_type": "execute_result",
          "data": {
            "text/plain": [
              "                       Date  \\\n",
              "0 2021-08-30 23:56:56+00:00   \n",
              "1 2021-08-30 23:55:23+00:00   \n",
              "2 2021-08-30 23:49:32+00:00   \n",
              "3 2021-08-30 23:48:07+00:00   \n",
              "4 2021-08-30 23:46:15+00:00   \n",
              "\n",
              "                                                Text  \\\n",
              "0  I think @bonafidehan might win for the hardest...   \n",
              "1  Tom Brady laser eyes, Jay-Z and OBJ with Crypt...   \n",
              "2  Imagine buying a #cryptopunk and not having a ...   \n",
              "3  Shopping with my gf in style @CryptoPunkCats 😆...   \n",
              "4  Visa buys cryptopunk, bullish NFT whitepaper: ...   \n",
              "\n",
              "                                            Hashtags  \n",
              "0                                               None  \n",
              "1                                               None  \n",
              "2                         [cryptopunk, cryptojingle]  \n",
              "3  [CryptoPunk, punkcats, Crypto, cryptocurrency,...  \n",
              "4                                               None  "
            ],
            "text/html": [
              "\n",
              "  <div id=\"df-5eb0f7c5-9bc5-4231-adc0-5d48e8440b9e\">\n",
              "    <div class=\"colab-df-container\">\n",
              "      <div>\n",
              "<style scoped>\n",
              "    .dataframe tbody tr th:only-of-type {\n",
              "        vertical-align: middle;\n",
              "    }\n",
              "\n",
              "    .dataframe tbody tr th {\n",
              "        vertical-align: top;\n",
              "    }\n",
              "\n",
              "    .dataframe thead th {\n",
              "        text-align: right;\n",
              "    }\n",
              "</style>\n",
              "<table border=\"1\" class=\"dataframe\">\n",
              "  <thead>\n",
              "    <tr style=\"text-align: right;\">\n",
              "      <th></th>\n",
              "      <th>Date</th>\n",
              "      <th>Text</th>\n",
              "      <th>Hashtags</th>\n",
              "    </tr>\n",
              "  </thead>\n",
              "  <tbody>\n",
              "    <tr>\n",
              "      <th>0</th>\n",
              "      <td>2021-08-30 23:56:56+00:00</td>\n",
              "      <td>I think @bonafidehan might win for the hardest...</td>\n",
              "      <td>None</td>\n",
              "    </tr>\n",
              "    <tr>\n",
              "      <th>1</th>\n",
              "      <td>2021-08-30 23:55:23+00:00</td>\n",
              "      <td>Tom Brady laser eyes, Jay-Z and OBJ with Crypt...</td>\n",
              "      <td>None</td>\n",
              "    </tr>\n",
              "    <tr>\n",
              "      <th>2</th>\n",
              "      <td>2021-08-30 23:49:32+00:00</td>\n",
              "      <td>Imagine buying a #cryptopunk and not having a ...</td>\n",
              "      <td>[cryptopunk, cryptojingle]</td>\n",
              "    </tr>\n",
              "    <tr>\n",
              "      <th>3</th>\n",
              "      <td>2021-08-30 23:48:07+00:00</td>\n",
              "      <td>Shopping with my gf in style @CryptoPunkCats 😆...</td>\n",
              "      <td>[CryptoPunk, punkcats, Crypto, cryptocurrency,...</td>\n",
              "    </tr>\n",
              "    <tr>\n",
              "      <th>4</th>\n",
              "      <td>2021-08-30 23:46:15+00:00</td>\n",
              "      <td>Visa buys cryptopunk, bullish NFT whitepaper: ...</td>\n",
              "      <td>None</td>\n",
              "    </tr>\n",
              "  </tbody>\n",
              "</table>\n",
              "</div>\n",
              "      <button class=\"colab-df-convert\" onclick=\"convertToInteractive('df-5eb0f7c5-9bc5-4231-adc0-5d48e8440b9e')\"\n",
              "              title=\"Convert this dataframe to an interactive table.\"\n",
              "              style=\"display:none;\">\n",
              "        \n",
              "  <svg xmlns=\"http://www.w3.org/2000/svg\" height=\"24px\"viewBox=\"0 0 24 24\"\n",
              "       width=\"24px\">\n",
              "    <path d=\"M0 0h24v24H0V0z\" fill=\"none\"/>\n",
              "    <path d=\"M18.56 5.44l.94 2.06.94-2.06 2.06-.94-2.06-.94-.94-2.06-.94 2.06-2.06.94zm-11 1L8.5 8.5l.94-2.06 2.06-.94-2.06-.94L8.5 2.5l-.94 2.06-2.06.94zm10 10l.94 2.06.94-2.06 2.06-.94-2.06-.94-.94-2.06-.94 2.06-2.06.94z\"/><path d=\"M17.41 7.96l-1.37-1.37c-.4-.4-.92-.59-1.43-.59-.52 0-1.04.2-1.43.59L10.3 9.45l-7.72 7.72c-.78.78-.78 2.05 0 2.83L4 21.41c.39.39.9.59 1.41.59.51 0 1.02-.2 1.41-.59l7.78-7.78 2.81-2.81c.8-.78.8-2.07 0-2.86zM5.41 20L4 18.59l7.72-7.72 1.47 1.35L5.41 20z\"/>\n",
              "  </svg>\n",
              "      </button>\n",
              "      \n",
              "  <style>\n",
              "    .colab-df-container {\n",
              "      display:flex;\n",
              "      flex-wrap:wrap;\n",
              "      gap: 12px;\n",
              "    }\n",
              "\n",
              "    .colab-df-convert {\n",
              "      background-color: #E8F0FE;\n",
              "      border: none;\n",
              "      border-radius: 50%;\n",
              "      cursor: pointer;\n",
              "      display: none;\n",
              "      fill: #1967D2;\n",
              "      height: 32px;\n",
              "      padding: 0 0 0 0;\n",
              "      width: 32px;\n",
              "    }\n",
              "\n",
              "    .colab-df-convert:hover {\n",
              "      background-color: #E2EBFA;\n",
              "      box-shadow: 0px 1px 2px rgba(60, 64, 67, 0.3), 0px 1px 3px 1px rgba(60, 64, 67, 0.15);\n",
              "      fill: #174EA6;\n",
              "    }\n",
              "\n",
              "    [theme=dark] .colab-df-convert {\n",
              "      background-color: #3B4455;\n",
              "      fill: #D2E3FC;\n",
              "    }\n",
              "\n",
              "    [theme=dark] .colab-df-convert:hover {\n",
              "      background-color: #434B5C;\n",
              "      box-shadow: 0px 1px 3px 1px rgba(0, 0, 0, 0.15);\n",
              "      filter: drop-shadow(0px 1px 2px rgba(0, 0, 0, 0.3));\n",
              "      fill: #FFFFFF;\n",
              "    }\n",
              "  </style>\n",
              "\n",
              "      <script>\n",
              "        const buttonEl =\n",
              "          document.querySelector('#df-5eb0f7c5-9bc5-4231-adc0-5d48e8440b9e button.colab-df-convert');\n",
              "        buttonEl.style.display =\n",
              "          google.colab.kernel.accessAllowed ? 'block' : 'none';\n",
              "\n",
              "        async function convertToInteractive(key) {\n",
              "          const element = document.querySelector('#df-5eb0f7c5-9bc5-4231-adc0-5d48e8440b9e');\n",
              "          const dataTable =\n",
              "            await google.colab.kernel.invokeFunction('convertToInteractive',\n",
              "                                                     [key], {});\n",
              "          if (!dataTable) return;\n",
              "\n",
              "          const docLinkHtml = 'Like what you see? Visit the ' +\n",
              "            '<a target=\"_blank\" href=https://colab.research.google.com/notebooks/data_table.ipynb>data table notebook</a>'\n",
              "            + ' to learn more about interactive tables.';\n",
              "          element.innerHTML = '';\n",
              "          dataTable['output_type'] = 'display_data';\n",
              "          await google.colab.output.renderOutput(dataTable, element);\n",
              "          const docLink = document.createElement('div');\n",
              "          docLink.innerHTML = docLinkHtml;\n",
              "          element.appendChild(docLink);\n",
              "        }\n",
              "      </script>\n",
              "    </div>\n",
              "  </div>\n",
              "  "
            ]
          },
          "metadata": {},
          "execution_count": 18
        }
      ]
    },
    {
      "cell_type": "code",
      "source": [
        "tweets_list_2021_08.to_csv(\"tweets_cryptopunk_2021_08.csv\")"
      ],
      "metadata": {
        "id": "9ZfXE5BWT9gW"
      },
      "execution_count": null,
      "outputs": []
    },
    {
      "cell_type": "markdown",
      "source": [
        "# 2021.09-2021.10"
      ],
      "metadata": {
        "id": "LhoauEc3fEEN"
      }
    },
    {
      "cell_type": "code",
      "source": [
        "# Creating list to append tweet data to\n",
        "tweets_list = []\n",
        "\n",
        "# Using TwitterSearchScraper to scrape data and append tweets to list\n",
        "for i,tweet in enumerate(sntwitter.TwitterSearchScraper('cryptopunk since:2021-08-31 until:2021-10-31 lang:en min_faves:0 exclude:retweets').get_items()):\n",
        "  tweets_list.append([tweet.date, tweet.content, tweet.hashtags]) #tweet.id"
      ],
      "metadata": {
        "colab": {
          "base_uri": "https://localhost:8080/"
        },
        "outputId": "ca824243-44c3-4337-8c0c-d86aea5a29a1",
        "id": "VIPhWm1dX_xu"
      },
      "execution_count": null,
      "outputs": [
        {
          "output_type": "stream",
          "name": "stderr",
          "text": [
            "<ipython-input-20-65ec74848f56>:6: FutureWarning: content is deprecated, use rawContent instead\n",
            "  tweets_list.append([tweet.date, tweet.content, tweet.hashtags]) #tweet.id\n"
          ]
        }
      ]
    },
    {
      "cell_type": "code",
      "source": [
        "tweets_list_2021_10 = pd.DataFrame(tweets_list, columns=['Date', 'Text', 'Hashtags'])"
      ],
      "metadata": {
        "id": "gxib5t2LX_xy"
      },
      "execution_count": null,
      "outputs": []
    },
    {
      "cell_type": "code",
      "source": [
        "tweets_list_2021_10.head()"
      ],
      "metadata": {
        "colab": {
          "base_uri": "https://localhost:8080/",
          "height": 206
        },
        "outputId": "ae63ac22-7851-4549-97dc-278a22a9821f",
        "id": "SGyiPS00X_xz"
      },
      "execution_count": null,
      "outputs": [
        {
          "output_type": "execute_result",
          "data": {
            "text/plain": [
              "                       Date  \\\n",
              "0 2021-10-30 23:59:10+00:00   \n",
              "1 2021-10-30 23:55:43+00:00   \n",
              "2 2021-10-30 23:50:00+00:00   \n",
              "3 2021-10-30 23:27:41+00:00   \n",
              "4 2021-10-30 23:02:05+00:00   \n",
              "\n",
              "                                                Text  \\\n",
              "0  @scott_lew_is Well I’ve never seen people bein...   \n",
              "1  Check out this x-ray of Ape CryptoPunk #2924!\\...   \n",
              "2  It’s fun to look through some of the CryptoPun...   \n",
              "3  Check out this x-ray of CryptoPunk #6196!\\n\\nW...   \n",
              "4      @gainzxbt Fits you better than the cryptopunk   \n",
              "\n",
              "                                            Hashtags  \n",
              "0                                               None  \n",
              "1  [NFT, NFTs, NFTcommunity, NFTcollector, NFTcol...  \n",
              "2                                               None  \n",
              "3  [NFT, NFTs, NFTcommunity, NFTcollector, NFTcol...  \n",
              "4                                               None  "
            ],
            "text/html": [
              "\n",
              "  <div id=\"df-123be2d2-70c8-4c13-b4cf-9618b11e2a88\">\n",
              "    <div class=\"colab-df-container\">\n",
              "      <div>\n",
              "<style scoped>\n",
              "    .dataframe tbody tr th:only-of-type {\n",
              "        vertical-align: middle;\n",
              "    }\n",
              "\n",
              "    .dataframe tbody tr th {\n",
              "        vertical-align: top;\n",
              "    }\n",
              "\n",
              "    .dataframe thead th {\n",
              "        text-align: right;\n",
              "    }\n",
              "</style>\n",
              "<table border=\"1\" class=\"dataframe\">\n",
              "  <thead>\n",
              "    <tr style=\"text-align: right;\">\n",
              "      <th></th>\n",
              "      <th>Date</th>\n",
              "      <th>Text</th>\n",
              "      <th>Hashtags</th>\n",
              "    </tr>\n",
              "  </thead>\n",
              "  <tbody>\n",
              "    <tr>\n",
              "      <th>0</th>\n",
              "      <td>2021-10-30 23:59:10+00:00</td>\n",
              "      <td>@scott_lew_is Well I’ve never seen people bein...</td>\n",
              "      <td>None</td>\n",
              "    </tr>\n",
              "    <tr>\n",
              "      <th>1</th>\n",
              "      <td>2021-10-30 23:55:43+00:00</td>\n",
              "      <td>Check out this x-ray of Ape CryptoPunk #2924!\\...</td>\n",
              "      <td>[NFT, NFTs, NFTcommunity, NFTcollector, NFTcol...</td>\n",
              "    </tr>\n",
              "    <tr>\n",
              "      <th>2</th>\n",
              "      <td>2021-10-30 23:50:00+00:00</td>\n",
              "      <td>It’s fun to look through some of the CryptoPun...</td>\n",
              "      <td>None</td>\n",
              "    </tr>\n",
              "    <tr>\n",
              "      <th>3</th>\n",
              "      <td>2021-10-30 23:27:41+00:00</td>\n",
              "      <td>Check out this x-ray of CryptoPunk #6196!\\n\\nW...</td>\n",
              "      <td>[NFT, NFTs, NFTcommunity, NFTcollector, NFTcol...</td>\n",
              "    </tr>\n",
              "    <tr>\n",
              "      <th>4</th>\n",
              "      <td>2021-10-30 23:02:05+00:00</td>\n",
              "      <td>@gainzxbt Fits you better than the cryptopunk</td>\n",
              "      <td>None</td>\n",
              "    </tr>\n",
              "  </tbody>\n",
              "</table>\n",
              "</div>\n",
              "      <button class=\"colab-df-convert\" onclick=\"convertToInteractive('df-123be2d2-70c8-4c13-b4cf-9618b11e2a88')\"\n",
              "              title=\"Convert this dataframe to an interactive table.\"\n",
              "              style=\"display:none;\">\n",
              "        \n",
              "  <svg xmlns=\"http://www.w3.org/2000/svg\" height=\"24px\"viewBox=\"0 0 24 24\"\n",
              "       width=\"24px\">\n",
              "    <path d=\"M0 0h24v24H0V0z\" fill=\"none\"/>\n",
              "    <path d=\"M18.56 5.44l.94 2.06.94-2.06 2.06-.94-2.06-.94-.94-2.06-.94 2.06-2.06.94zm-11 1L8.5 8.5l.94-2.06 2.06-.94-2.06-.94L8.5 2.5l-.94 2.06-2.06.94zm10 10l.94 2.06.94-2.06 2.06-.94-2.06-.94-.94-2.06-.94 2.06-2.06.94z\"/><path d=\"M17.41 7.96l-1.37-1.37c-.4-.4-.92-.59-1.43-.59-.52 0-1.04.2-1.43.59L10.3 9.45l-7.72 7.72c-.78.78-.78 2.05 0 2.83L4 21.41c.39.39.9.59 1.41.59.51 0 1.02-.2 1.41-.59l7.78-7.78 2.81-2.81c.8-.78.8-2.07 0-2.86zM5.41 20L4 18.59l7.72-7.72 1.47 1.35L5.41 20z\"/>\n",
              "  </svg>\n",
              "      </button>\n",
              "      \n",
              "  <style>\n",
              "    .colab-df-container {\n",
              "      display:flex;\n",
              "      flex-wrap:wrap;\n",
              "      gap: 12px;\n",
              "    }\n",
              "\n",
              "    .colab-df-convert {\n",
              "      background-color: #E8F0FE;\n",
              "      border: none;\n",
              "      border-radius: 50%;\n",
              "      cursor: pointer;\n",
              "      display: none;\n",
              "      fill: #1967D2;\n",
              "      height: 32px;\n",
              "      padding: 0 0 0 0;\n",
              "      width: 32px;\n",
              "    }\n",
              "\n",
              "    .colab-df-convert:hover {\n",
              "      background-color: #E2EBFA;\n",
              "      box-shadow: 0px 1px 2px rgba(60, 64, 67, 0.3), 0px 1px 3px 1px rgba(60, 64, 67, 0.15);\n",
              "      fill: #174EA6;\n",
              "    }\n",
              "\n",
              "    [theme=dark] .colab-df-convert {\n",
              "      background-color: #3B4455;\n",
              "      fill: #D2E3FC;\n",
              "    }\n",
              "\n",
              "    [theme=dark] .colab-df-convert:hover {\n",
              "      background-color: #434B5C;\n",
              "      box-shadow: 0px 1px 3px 1px rgba(0, 0, 0, 0.15);\n",
              "      filter: drop-shadow(0px 1px 2px rgba(0, 0, 0, 0.3));\n",
              "      fill: #FFFFFF;\n",
              "    }\n",
              "  </style>\n",
              "\n",
              "      <script>\n",
              "        const buttonEl =\n",
              "          document.querySelector('#df-123be2d2-70c8-4c13-b4cf-9618b11e2a88 button.colab-df-convert');\n",
              "        buttonEl.style.display =\n",
              "          google.colab.kernel.accessAllowed ? 'block' : 'none';\n",
              "\n",
              "        async function convertToInteractive(key) {\n",
              "          const element = document.querySelector('#df-123be2d2-70c8-4c13-b4cf-9618b11e2a88');\n",
              "          const dataTable =\n",
              "            await google.colab.kernel.invokeFunction('convertToInteractive',\n",
              "                                                     [key], {});\n",
              "          if (!dataTable) return;\n",
              "\n",
              "          const docLinkHtml = 'Like what you see? Visit the ' +\n",
              "            '<a target=\"_blank\" href=https://colab.research.google.com/notebooks/data_table.ipynb>data table notebook</a>'\n",
              "            + ' to learn more about interactive tables.';\n",
              "          element.innerHTML = '';\n",
              "          dataTable['output_type'] = 'display_data';\n",
              "          await google.colab.output.renderOutput(dataTable, element);\n",
              "          const docLink = document.createElement('div');\n",
              "          docLink.innerHTML = docLinkHtml;\n",
              "          element.appendChild(docLink);\n",
              "        }\n",
              "      </script>\n",
              "    </div>\n",
              "  </div>\n",
              "  "
            ]
          },
          "metadata": {},
          "execution_count": 22
        }
      ]
    },
    {
      "cell_type": "code",
      "source": [
        "tweets_list_2021_10.to_csv(\"tweets_cryptopunk_2021_10.csv\")"
      ],
      "metadata": {
        "id": "2DKigNofX_x0"
      },
      "execution_count": null,
      "outputs": []
    },
    {
      "cell_type": "markdown",
      "source": [
        "# 2021.11-2021.12"
      ],
      "metadata": {
        "id": "px0yjdR9fKxO"
      }
    },
    {
      "cell_type": "code",
      "source": [
        "# Creating list to append tweet data to\n",
        "tweets_list = []\n",
        "\n",
        "# Using TwitterSearchScraper to scrape data and append tweets to list\n",
        "for i,tweet in enumerate(sntwitter.TwitterSearchScraper('cryptopunk since:2021-10-31 until:2021-12-31 lang:en min_faves:0 exclude:retweets').get_items()):\n",
        "  tweets_list.append([tweet.date, tweet.content, tweet.hashtags]) #tweet.id"
      ],
      "metadata": {
        "colab": {
          "base_uri": "https://localhost:8080/"
        },
        "outputId": "89b4e7ca-bbf9-42b6-ad41-6399d6ead8f2",
        "id": "Kx0yY6xLdjrF"
      },
      "execution_count": null,
      "outputs": [
        {
          "output_type": "stream",
          "name": "stderr",
          "text": [
            "<ipython-input-24-acee48b033b3>:6: FutureWarning: content is deprecated, use rawContent instead\n",
            "  tweets_list.append([tweet.date, tweet.content, tweet.hashtags]) #tweet.id\n"
          ]
        }
      ]
    },
    {
      "cell_type": "code",
      "source": [
        "tweets_list_2021_12 = pd.DataFrame(tweets_list, columns=['Date', 'Text', 'Hashtags'])"
      ],
      "metadata": {
        "id": "GiJi8LQ9djrG"
      },
      "execution_count": null,
      "outputs": []
    },
    {
      "cell_type": "code",
      "source": [
        "tweets_list_2021_12.head()"
      ],
      "metadata": {
        "colab": {
          "base_uri": "https://localhost:8080/",
          "height": 206
        },
        "outputId": "d4a13b23-db16-4d70-9c4f-c2a794b6a3f1",
        "id": "76FdChjHdjrG"
      },
      "execution_count": null,
      "outputs": [
        {
          "output_type": "execute_result",
          "data": {
            "text/plain": [
              "                       Date  \\\n",
              "0 2021-12-30 23:57:16+00:00   \n",
              "1 2021-12-30 23:47:14+00:00   \n",
              "2 2021-12-30 23:44:41+00:00   \n",
              "3 2021-12-30 23:43:29+00:00   \n",
              "4 2021-12-30 23:40:59+00:00   \n",
              "\n",
              "                                                Text  \\\n",
              "0     @NFT_NEWS_USA @FangGangNFT omg, deese is cute!   \n",
              "1  🌟 Just minted an awesome new NFT on @tryShowti...   \n",
              "2  What makes y’all more $…\\n\\nDay trading $Crypt...   \n",
              "3  @TheSimpsonzPunk @cryptopunk @CryptoPunk4052 Y...   \n",
              "4  @3dFrankenPunks @doodles When we open up to BA...   \n",
              "\n",
              "                                            Hashtags  \n",
              "0                                               None  \n",
              "1                 [nft, smoke, CryptoPunk, CNFTdrop]  \n",
              "2  [nft, crypto, nftart, nftcollector, daytrader,...  \n",
              "3                                               None  \n",
              "4                                               None  "
            ],
            "text/html": [
              "\n",
              "  <div id=\"df-64e52b59-8736-489c-a7e7-510963dd2f66\">\n",
              "    <div class=\"colab-df-container\">\n",
              "      <div>\n",
              "<style scoped>\n",
              "    .dataframe tbody tr th:only-of-type {\n",
              "        vertical-align: middle;\n",
              "    }\n",
              "\n",
              "    .dataframe tbody tr th {\n",
              "        vertical-align: top;\n",
              "    }\n",
              "\n",
              "    .dataframe thead th {\n",
              "        text-align: right;\n",
              "    }\n",
              "</style>\n",
              "<table border=\"1\" class=\"dataframe\">\n",
              "  <thead>\n",
              "    <tr style=\"text-align: right;\">\n",
              "      <th></th>\n",
              "      <th>Date</th>\n",
              "      <th>Text</th>\n",
              "      <th>Hashtags</th>\n",
              "    </tr>\n",
              "  </thead>\n",
              "  <tbody>\n",
              "    <tr>\n",
              "      <th>0</th>\n",
              "      <td>2021-12-30 23:57:16+00:00</td>\n",
              "      <td>@NFT_NEWS_USA @FangGangNFT omg, deese is cute!</td>\n",
              "      <td>None</td>\n",
              "    </tr>\n",
              "    <tr>\n",
              "      <th>1</th>\n",
              "      <td>2021-12-30 23:47:14+00:00</td>\n",
              "      <td>🌟 Just minted an awesome new NFT on @tryShowti...</td>\n",
              "      <td>[nft, smoke, CryptoPunk, CNFTdrop]</td>\n",
              "    </tr>\n",
              "    <tr>\n",
              "      <th>2</th>\n",
              "      <td>2021-12-30 23:44:41+00:00</td>\n",
              "      <td>What makes y’all more $…\\n\\nDay trading $Crypt...</td>\n",
              "      <td>[nft, crypto, nftart, nftcollector, daytrader,...</td>\n",
              "    </tr>\n",
              "    <tr>\n",
              "      <th>3</th>\n",
              "      <td>2021-12-30 23:43:29+00:00</td>\n",
              "      <td>@TheSimpsonzPunk @cryptopunk @CryptoPunk4052 Y...</td>\n",
              "      <td>None</td>\n",
              "    </tr>\n",
              "    <tr>\n",
              "      <th>4</th>\n",
              "      <td>2021-12-30 23:40:59+00:00</td>\n",
              "      <td>@3dFrankenPunks @doodles When we open up to BA...</td>\n",
              "      <td>None</td>\n",
              "    </tr>\n",
              "  </tbody>\n",
              "</table>\n",
              "</div>\n",
              "      <button class=\"colab-df-convert\" onclick=\"convertToInteractive('df-64e52b59-8736-489c-a7e7-510963dd2f66')\"\n",
              "              title=\"Convert this dataframe to an interactive table.\"\n",
              "              style=\"display:none;\">\n",
              "        \n",
              "  <svg xmlns=\"http://www.w3.org/2000/svg\" height=\"24px\"viewBox=\"0 0 24 24\"\n",
              "       width=\"24px\">\n",
              "    <path d=\"M0 0h24v24H0V0z\" fill=\"none\"/>\n",
              "    <path d=\"M18.56 5.44l.94 2.06.94-2.06 2.06-.94-2.06-.94-.94-2.06-.94 2.06-2.06.94zm-11 1L8.5 8.5l.94-2.06 2.06-.94-2.06-.94L8.5 2.5l-.94 2.06-2.06.94zm10 10l.94 2.06.94-2.06 2.06-.94-2.06-.94-.94-2.06-.94 2.06-2.06.94z\"/><path d=\"M17.41 7.96l-1.37-1.37c-.4-.4-.92-.59-1.43-.59-.52 0-1.04.2-1.43.59L10.3 9.45l-7.72 7.72c-.78.78-.78 2.05 0 2.83L4 21.41c.39.39.9.59 1.41.59.51 0 1.02-.2 1.41-.59l7.78-7.78 2.81-2.81c.8-.78.8-2.07 0-2.86zM5.41 20L4 18.59l7.72-7.72 1.47 1.35L5.41 20z\"/>\n",
              "  </svg>\n",
              "      </button>\n",
              "      \n",
              "  <style>\n",
              "    .colab-df-container {\n",
              "      display:flex;\n",
              "      flex-wrap:wrap;\n",
              "      gap: 12px;\n",
              "    }\n",
              "\n",
              "    .colab-df-convert {\n",
              "      background-color: #E8F0FE;\n",
              "      border: none;\n",
              "      border-radius: 50%;\n",
              "      cursor: pointer;\n",
              "      display: none;\n",
              "      fill: #1967D2;\n",
              "      height: 32px;\n",
              "      padding: 0 0 0 0;\n",
              "      width: 32px;\n",
              "    }\n",
              "\n",
              "    .colab-df-convert:hover {\n",
              "      background-color: #E2EBFA;\n",
              "      box-shadow: 0px 1px 2px rgba(60, 64, 67, 0.3), 0px 1px 3px 1px rgba(60, 64, 67, 0.15);\n",
              "      fill: #174EA6;\n",
              "    }\n",
              "\n",
              "    [theme=dark] .colab-df-convert {\n",
              "      background-color: #3B4455;\n",
              "      fill: #D2E3FC;\n",
              "    }\n",
              "\n",
              "    [theme=dark] .colab-df-convert:hover {\n",
              "      background-color: #434B5C;\n",
              "      box-shadow: 0px 1px 3px 1px rgba(0, 0, 0, 0.15);\n",
              "      filter: drop-shadow(0px 1px 2px rgba(0, 0, 0, 0.3));\n",
              "      fill: #FFFFFF;\n",
              "    }\n",
              "  </style>\n",
              "\n",
              "      <script>\n",
              "        const buttonEl =\n",
              "          document.querySelector('#df-64e52b59-8736-489c-a7e7-510963dd2f66 button.colab-df-convert');\n",
              "        buttonEl.style.display =\n",
              "          google.colab.kernel.accessAllowed ? 'block' : 'none';\n",
              "\n",
              "        async function convertToInteractive(key) {\n",
              "          const element = document.querySelector('#df-64e52b59-8736-489c-a7e7-510963dd2f66');\n",
              "          const dataTable =\n",
              "            await google.colab.kernel.invokeFunction('convertToInteractive',\n",
              "                                                     [key], {});\n",
              "          if (!dataTable) return;\n",
              "\n",
              "          const docLinkHtml = 'Like what you see? Visit the ' +\n",
              "            '<a target=\"_blank\" href=https://colab.research.google.com/notebooks/data_table.ipynb>data table notebook</a>'\n",
              "            + ' to learn more about interactive tables.';\n",
              "          element.innerHTML = '';\n",
              "          dataTable['output_type'] = 'display_data';\n",
              "          await google.colab.output.renderOutput(dataTable, element);\n",
              "          const docLink = document.createElement('div');\n",
              "          docLink.innerHTML = docLinkHtml;\n",
              "          element.appendChild(docLink);\n",
              "        }\n",
              "      </script>\n",
              "    </div>\n",
              "  </div>\n",
              "  "
            ]
          },
          "metadata": {},
          "execution_count": 26
        }
      ]
    },
    {
      "cell_type": "code",
      "source": [
        "tweets_list_2021_12.to_csv(\"tweets_cryptopunk_2021_12.csv\")"
      ],
      "metadata": {
        "id": "t-MitlFNdjrG"
      },
      "execution_count": null,
      "outputs": []
    },
    {
      "cell_type": "markdown",
      "source": [
        "# 2022.01-2022.03"
      ],
      "metadata": {
        "id": "avi54m3zhoW7"
      }
    },
    {
      "cell_type": "code",
      "source": [
        "# Creating list to append tweet data to\n",
        "tweets_list = []\n",
        "\n",
        "# Using TwitterSearchScraper to scrape data and append tweets to list\n",
        "for i,tweet in enumerate(sntwitter.TwitterSearchScraper('cryptopunk since:2021-12-31 until:2022-03-31 lang:en min_faves:0 exclude:retweets').get_items()):\n",
        "  tweets_list.append([tweet.date, tweet.content, tweet.hashtags]) #tweet.id"
      ],
      "metadata": {
        "colab": {
          "base_uri": "https://localhost:8080/"
        },
        "outputId": "3a0eec52-9d53-44d9-c6e9-bbe8f06f3d80",
        "id": "k2CWJIsThoW8"
      },
      "execution_count": null,
      "outputs": [
        {
          "output_type": "stream",
          "name": "stderr",
          "text": [
            "<ipython-input-28-b4381dfeff80>:6: FutureWarning: content is deprecated, use rawContent instead\n",
            "  tweets_list.append([tweet.date, tweet.content, tweet.hashtags]) #tweet.id\n"
          ]
        }
      ]
    },
    {
      "cell_type": "code",
      "source": [
        "tweets_list_2022_03 = pd.DataFrame(tweets_list, columns=['Date', 'Text', 'Hashtags'])"
      ],
      "metadata": {
        "id": "Zxp8cfWbhoW-"
      },
      "execution_count": null,
      "outputs": []
    },
    {
      "cell_type": "code",
      "source": [
        "tweets_list_2022_03.head()"
      ],
      "metadata": {
        "colab": {
          "base_uri": "https://localhost:8080/",
          "height": 206
        },
        "outputId": "834905d0-2b1d-4c79-d268-177613b7128c",
        "id": "j9s12Y9phoW-"
      },
      "execution_count": null,
      "outputs": [
        {
          "output_type": "execute_result",
          "data": {
            "text/plain": [
              "                       Date  \\\n",
              "0 2022-03-30 23:59:02+00:00   \n",
              "1 2022-03-30 23:55:37+00:00   \n",
              "2 2022-03-30 23:15:38+00:00   \n",
              "3 2022-03-30 23:06:53+00:00   \n",
              "4 2022-03-30 23:03:59+00:00   \n",
              "\n",
              "                                                Text  \\\n",
              "0   @memexbby @Charly1P4L @ThePossessedNFT So cool 😎   \n",
              "1  This is not a #MEEBIT or a #CryptoPunk #NFT - ...   \n",
              "2  Sold! CryptoPunk #2582 was purchased by SOS1US...   \n",
              "3       And it never is this https://t.co/UbZ6NjFfR0   \n",
              "4  @NFTom34 @ThePossessedNFT Grats Fam… will be j...   \n",
              "\n",
              "                                            Hashtags  \n",
              "0                                               None  \n",
              "1                    [MEEBIT, CryptoPunk, NFT, NFTs]  \n",
              "2  [NFT, NFTs, digitalart, art, cryptoart, crypto...  \n",
              "3                                               None  \n",
              "4                                               None  "
            ],
            "text/html": [
              "\n",
              "  <div id=\"df-1c64b641-d26d-4b7c-aa5b-99b10fe7fdb7\">\n",
              "    <div class=\"colab-df-container\">\n",
              "      <div>\n",
              "<style scoped>\n",
              "    .dataframe tbody tr th:only-of-type {\n",
              "        vertical-align: middle;\n",
              "    }\n",
              "\n",
              "    .dataframe tbody tr th {\n",
              "        vertical-align: top;\n",
              "    }\n",
              "\n",
              "    .dataframe thead th {\n",
              "        text-align: right;\n",
              "    }\n",
              "</style>\n",
              "<table border=\"1\" class=\"dataframe\">\n",
              "  <thead>\n",
              "    <tr style=\"text-align: right;\">\n",
              "      <th></th>\n",
              "      <th>Date</th>\n",
              "      <th>Text</th>\n",
              "      <th>Hashtags</th>\n",
              "    </tr>\n",
              "  </thead>\n",
              "  <tbody>\n",
              "    <tr>\n",
              "      <th>0</th>\n",
              "      <td>2022-03-30 23:59:02+00:00</td>\n",
              "      <td>@memexbby @Charly1P4L @ThePossessedNFT So cool 😎</td>\n",
              "      <td>None</td>\n",
              "    </tr>\n",
              "    <tr>\n",
              "      <th>1</th>\n",
              "      <td>2022-03-30 23:55:37+00:00</td>\n",
              "      <td>This is not a #MEEBIT or a #CryptoPunk #NFT - ...</td>\n",
              "      <td>[MEEBIT, CryptoPunk, NFT, NFTs]</td>\n",
              "    </tr>\n",
              "    <tr>\n",
              "      <th>2</th>\n",
              "      <td>2022-03-30 23:15:38+00:00</td>\n",
              "      <td>Sold! CryptoPunk #2582 was purchased by SOS1US...</td>\n",
              "      <td>[NFT, NFTs, digitalart, art, cryptoart, crypto...</td>\n",
              "    </tr>\n",
              "    <tr>\n",
              "      <th>3</th>\n",
              "      <td>2022-03-30 23:06:53+00:00</td>\n",
              "      <td>And it never is this https://t.co/UbZ6NjFfR0</td>\n",
              "      <td>None</td>\n",
              "    </tr>\n",
              "    <tr>\n",
              "      <th>4</th>\n",
              "      <td>2022-03-30 23:03:59+00:00</td>\n",
              "      <td>@NFTom34 @ThePossessedNFT Grats Fam… will be j...</td>\n",
              "      <td>None</td>\n",
              "    </tr>\n",
              "  </tbody>\n",
              "</table>\n",
              "</div>\n",
              "      <button class=\"colab-df-convert\" onclick=\"convertToInteractive('df-1c64b641-d26d-4b7c-aa5b-99b10fe7fdb7')\"\n",
              "              title=\"Convert this dataframe to an interactive table.\"\n",
              "              style=\"display:none;\">\n",
              "        \n",
              "  <svg xmlns=\"http://www.w3.org/2000/svg\" height=\"24px\"viewBox=\"0 0 24 24\"\n",
              "       width=\"24px\">\n",
              "    <path d=\"M0 0h24v24H0V0z\" fill=\"none\"/>\n",
              "    <path d=\"M18.56 5.44l.94 2.06.94-2.06 2.06-.94-2.06-.94-.94-2.06-.94 2.06-2.06.94zm-11 1L8.5 8.5l.94-2.06 2.06-.94-2.06-.94L8.5 2.5l-.94 2.06-2.06.94zm10 10l.94 2.06.94-2.06 2.06-.94-2.06-.94-.94-2.06-.94 2.06-2.06.94z\"/><path d=\"M17.41 7.96l-1.37-1.37c-.4-.4-.92-.59-1.43-.59-.52 0-1.04.2-1.43.59L10.3 9.45l-7.72 7.72c-.78.78-.78 2.05 0 2.83L4 21.41c.39.39.9.59 1.41.59.51 0 1.02-.2 1.41-.59l7.78-7.78 2.81-2.81c.8-.78.8-2.07 0-2.86zM5.41 20L4 18.59l7.72-7.72 1.47 1.35L5.41 20z\"/>\n",
              "  </svg>\n",
              "      </button>\n",
              "      \n",
              "  <style>\n",
              "    .colab-df-container {\n",
              "      display:flex;\n",
              "      flex-wrap:wrap;\n",
              "      gap: 12px;\n",
              "    }\n",
              "\n",
              "    .colab-df-convert {\n",
              "      background-color: #E8F0FE;\n",
              "      border: none;\n",
              "      border-radius: 50%;\n",
              "      cursor: pointer;\n",
              "      display: none;\n",
              "      fill: #1967D2;\n",
              "      height: 32px;\n",
              "      padding: 0 0 0 0;\n",
              "      width: 32px;\n",
              "    }\n",
              "\n",
              "    .colab-df-convert:hover {\n",
              "      background-color: #E2EBFA;\n",
              "      box-shadow: 0px 1px 2px rgba(60, 64, 67, 0.3), 0px 1px 3px 1px rgba(60, 64, 67, 0.15);\n",
              "      fill: #174EA6;\n",
              "    }\n",
              "\n",
              "    [theme=dark] .colab-df-convert {\n",
              "      background-color: #3B4455;\n",
              "      fill: #D2E3FC;\n",
              "    }\n",
              "\n",
              "    [theme=dark] .colab-df-convert:hover {\n",
              "      background-color: #434B5C;\n",
              "      box-shadow: 0px 1px 3px 1px rgba(0, 0, 0, 0.15);\n",
              "      filter: drop-shadow(0px 1px 2px rgba(0, 0, 0, 0.3));\n",
              "      fill: #FFFFFF;\n",
              "    }\n",
              "  </style>\n",
              "\n",
              "      <script>\n",
              "        const buttonEl =\n",
              "          document.querySelector('#df-1c64b641-d26d-4b7c-aa5b-99b10fe7fdb7 button.colab-df-convert');\n",
              "        buttonEl.style.display =\n",
              "          google.colab.kernel.accessAllowed ? 'block' : 'none';\n",
              "\n",
              "        async function convertToInteractive(key) {\n",
              "          const element = document.querySelector('#df-1c64b641-d26d-4b7c-aa5b-99b10fe7fdb7');\n",
              "          const dataTable =\n",
              "            await google.colab.kernel.invokeFunction('convertToInteractive',\n",
              "                                                     [key], {});\n",
              "          if (!dataTable) return;\n",
              "\n",
              "          const docLinkHtml = 'Like what you see? Visit the ' +\n",
              "            '<a target=\"_blank\" href=https://colab.research.google.com/notebooks/data_table.ipynb>data table notebook</a>'\n",
              "            + ' to learn more about interactive tables.';\n",
              "          element.innerHTML = '';\n",
              "          dataTable['output_type'] = 'display_data';\n",
              "          await google.colab.output.renderOutput(dataTable, element);\n",
              "          const docLink = document.createElement('div');\n",
              "          docLink.innerHTML = docLinkHtml;\n",
              "          element.appendChild(docLink);\n",
              "        }\n",
              "      </script>\n",
              "    </div>\n",
              "  </div>\n",
              "  "
            ]
          },
          "metadata": {},
          "execution_count": 47
        }
      ]
    },
    {
      "cell_type": "code",
      "source": [
        "tweets_list_2022_03.to_csv(\"tweets_cryptopunk_2022_03.csv\")"
      ],
      "metadata": {
        "id": "sQ8te1YQhoW_"
      },
      "execution_count": null,
      "outputs": []
    },
    {
      "cell_type": "markdown",
      "source": [
        "# 2022.04-2022.07"
      ],
      "metadata": {
        "id": "zJ1yTLoPoc4t"
      }
    },
    {
      "cell_type": "code",
      "source": [
        "# Creating list to append tweet data to\n",
        "tweets_list = []\n",
        "\n",
        "# Using TwitterSearchScraper to scrape data and append tweets to list\n",
        "for i,tweet in enumerate(sntwitter.TwitterSearchScraper('cryptopunk since:2022-03-31 until:2022-07-31 lang:en min_faves:0 exclude:retweets').get_items()):\n",
        "  tweets_list.append([tweet.date, tweet.content, tweet.hashtags]) #tweet.id"
      ],
      "metadata": {
        "id": "casLDP-poc4u"
      },
      "execution_count": null,
      "outputs": []
    },
    {
      "cell_type": "code",
      "source": [
        "tweets_list_2022_07 = pd.DataFrame(tweets_list, columns=['Date', 'Text', 'Hashtags'])"
      ],
      "metadata": {
        "id": "ojCC9xzHoc4v"
      },
      "execution_count": null,
      "outputs": []
    },
    {
      "cell_type": "code",
      "source": [
        "tweets_list_2022_07.head()"
      ],
      "metadata": {
        "colab": {
          "base_uri": "https://localhost:8080/",
          "height": 206
        },
        "outputId": "a1295d07-22da-48ee-bdc4-1945837270fe",
        "id": "jnJWyQ2zoc4v"
      },
      "execution_count": null,
      "outputs": [
        {
          "output_type": "execute_result",
          "data": {
            "text/plain": [
              "                       Date  \\\n",
              "0 2022-10-31 23:45:50+00:00   \n",
              "1 2022-10-31 23:39:29+00:00   \n",
              "2 2022-10-31 23:02:13+00:00   \n",
              "3 2022-10-31 22:38:00+00:00   \n",
              "4 2022-10-31 22:27:08+00:00   \n",
              "\n",
              "                                                Text  \\\n",
              "0  On Saturday we’re going to release our first c...   \n",
              "1  @johnkarp cryptopunk. i could've gotten one ea...   \n",
              "2  @Arthemort @SothebysInst Using AI for my Crypt...   \n",
              "3  Was going to get a hoodie punk. Which one? Wel...   \n",
              "4  ~•@FamousFoxFed is launching support on aptos ...   \n",
              "\n",
              "                                            Hashtags  \n",
              "0  [bull, bullnftart, nftartists, opensea, NonFun...  \n",
              "1                                               None  \n",
              "2                                               None  \n",
              "3                                    [hoodie, phunk]  \n",
              "4                                               None  "
            ],
            "text/html": [
              "\n",
              "  <div id=\"df-6252f39a-a9f6-4f93-a32b-c5996ee82565\">\n",
              "    <div class=\"colab-df-container\">\n",
              "      <div>\n",
              "<style scoped>\n",
              "    .dataframe tbody tr th:only-of-type {\n",
              "        vertical-align: middle;\n",
              "    }\n",
              "\n",
              "    .dataframe tbody tr th {\n",
              "        vertical-align: top;\n",
              "    }\n",
              "\n",
              "    .dataframe thead th {\n",
              "        text-align: right;\n",
              "    }\n",
              "</style>\n",
              "<table border=\"1\" class=\"dataframe\">\n",
              "  <thead>\n",
              "    <tr style=\"text-align: right;\">\n",
              "      <th></th>\n",
              "      <th>Date</th>\n",
              "      <th>Text</th>\n",
              "      <th>Hashtags</th>\n",
              "    </tr>\n",
              "  </thead>\n",
              "  <tbody>\n",
              "    <tr>\n",
              "      <th>0</th>\n",
              "      <td>2022-10-31 23:45:50+00:00</td>\n",
              "      <td>On Saturday we’re going to release our first c...</td>\n",
              "      <td>[bull, bullnftart, nftartists, opensea, NonFun...</td>\n",
              "    </tr>\n",
              "    <tr>\n",
              "      <th>1</th>\n",
              "      <td>2022-10-31 23:39:29+00:00</td>\n",
              "      <td>@johnkarp cryptopunk. i could've gotten one ea...</td>\n",
              "      <td>None</td>\n",
              "    </tr>\n",
              "    <tr>\n",
              "      <th>2</th>\n",
              "      <td>2022-10-31 23:02:13+00:00</td>\n",
              "      <td>@Arthemort @SothebysInst Using AI for my Crypt...</td>\n",
              "      <td>None</td>\n",
              "    </tr>\n",
              "    <tr>\n",
              "      <th>3</th>\n",
              "      <td>2022-10-31 22:38:00+00:00</td>\n",
              "      <td>Was going to get a hoodie punk. Which one? Wel...</td>\n",
              "      <td>[hoodie, phunk]</td>\n",
              "    </tr>\n",
              "    <tr>\n",
              "      <th>4</th>\n",
              "      <td>2022-10-31 22:27:08+00:00</td>\n",
              "      <td>~•@FamousFoxFed is launching support on aptos ...</td>\n",
              "      <td>None</td>\n",
              "    </tr>\n",
              "  </tbody>\n",
              "</table>\n",
              "</div>\n",
              "      <button class=\"colab-df-convert\" onclick=\"convertToInteractive('df-6252f39a-a9f6-4f93-a32b-c5996ee82565')\"\n",
              "              title=\"Convert this dataframe to an interactive table.\"\n",
              "              style=\"display:none;\">\n",
              "        \n",
              "  <svg xmlns=\"http://www.w3.org/2000/svg\" height=\"24px\"viewBox=\"0 0 24 24\"\n",
              "       width=\"24px\">\n",
              "    <path d=\"M0 0h24v24H0V0z\" fill=\"none\"/>\n",
              "    <path d=\"M18.56 5.44l.94 2.06.94-2.06 2.06-.94-2.06-.94-.94-2.06-.94 2.06-2.06.94zm-11 1L8.5 8.5l.94-2.06 2.06-.94-2.06-.94L8.5 2.5l-.94 2.06-2.06.94zm10 10l.94 2.06.94-2.06 2.06-.94-2.06-.94-.94-2.06-.94 2.06-2.06.94z\"/><path d=\"M17.41 7.96l-1.37-1.37c-.4-.4-.92-.59-1.43-.59-.52 0-1.04.2-1.43.59L10.3 9.45l-7.72 7.72c-.78.78-.78 2.05 0 2.83L4 21.41c.39.39.9.59 1.41.59.51 0 1.02-.2 1.41-.59l7.78-7.78 2.81-2.81c.8-.78.8-2.07 0-2.86zM5.41 20L4 18.59l7.72-7.72 1.47 1.35L5.41 20z\"/>\n",
              "  </svg>\n",
              "      </button>\n",
              "      \n",
              "  <style>\n",
              "    .colab-df-container {\n",
              "      display:flex;\n",
              "      flex-wrap:wrap;\n",
              "      gap: 12px;\n",
              "    }\n",
              "\n",
              "    .colab-df-convert {\n",
              "      background-color: #E8F0FE;\n",
              "      border: none;\n",
              "      border-radius: 50%;\n",
              "      cursor: pointer;\n",
              "      display: none;\n",
              "      fill: #1967D2;\n",
              "      height: 32px;\n",
              "      padding: 0 0 0 0;\n",
              "      width: 32px;\n",
              "    }\n",
              "\n",
              "    .colab-df-convert:hover {\n",
              "      background-color: #E2EBFA;\n",
              "      box-shadow: 0px 1px 2px rgba(60, 64, 67, 0.3), 0px 1px 3px 1px rgba(60, 64, 67, 0.15);\n",
              "      fill: #174EA6;\n",
              "    }\n",
              "\n",
              "    [theme=dark] .colab-df-convert {\n",
              "      background-color: #3B4455;\n",
              "      fill: #D2E3FC;\n",
              "    }\n",
              "\n",
              "    [theme=dark] .colab-df-convert:hover {\n",
              "      background-color: #434B5C;\n",
              "      box-shadow: 0px 1px 3px 1px rgba(0, 0, 0, 0.15);\n",
              "      filter: drop-shadow(0px 1px 2px rgba(0, 0, 0, 0.3));\n",
              "      fill: #FFFFFF;\n",
              "    }\n",
              "  </style>\n",
              "\n",
              "      <script>\n",
              "        const buttonEl =\n",
              "          document.querySelector('#df-6252f39a-a9f6-4f93-a32b-c5996ee82565 button.colab-df-convert');\n",
              "        buttonEl.style.display =\n",
              "          google.colab.kernel.accessAllowed ? 'block' : 'none';\n",
              "\n",
              "        async function convertToInteractive(key) {\n",
              "          const element = document.querySelector('#df-6252f39a-a9f6-4f93-a32b-c5996ee82565');\n",
              "          const dataTable =\n",
              "            await google.colab.kernel.invokeFunction('convertToInteractive',\n",
              "                                                     [key], {});\n",
              "          if (!dataTable) return;\n",
              "\n",
              "          const docLinkHtml = 'Like what you see? Visit the ' +\n",
              "            '<a target=\"_blank\" href=https://colab.research.google.com/notebooks/data_table.ipynb>data table notebook</a>'\n",
              "            + ' to learn more about interactive tables.';\n",
              "          element.innerHTML = '';\n",
              "          dataTable['output_type'] = 'display_data';\n",
              "          await google.colab.output.renderOutput(dataTable, element);\n",
              "          const docLink = document.createElement('div');\n",
              "          docLink.innerHTML = docLinkHtml;\n",
              "          element.appendChild(docLink);\n",
              "        }\n",
              "      </script>\n",
              "    </div>\n",
              "  </div>\n",
              "  "
            ]
          },
          "metadata": {},
          "execution_count": 53
        }
      ]
    },
    {
      "cell_type": "code",
      "source": [
        "tweets_list_2022_07.to_csv(\"tweets_cryptopunk_2022_07.csv\")"
      ],
      "metadata": {
        "id": "VnNupmUuoc4v"
      },
      "execution_count": null,
      "outputs": []
    },
    {
      "cell_type": "markdown",
      "source": [
        "# 2022.08-2022.10"
      ],
      "metadata": {
        "id": "W8e7SXX3vQ8B"
      }
    },
    {
      "cell_type": "code",
      "source": [
        "# Creating list to append tweet data to\n",
        "tweets_list = []\n",
        "\n",
        "# Using TwitterSearchScraper to scrape data and append tweets to list\n",
        "for i,tweet in enumerate(sntwitter.TwitterSearchScraper('cryptopunk since:2022-07-31 until:2022-11-01 lang:en min_faves:0 exclude:retweets').get_items()):\n",
        "  tweets_list.append([tweet.date, tweet.content, tweet.hashtags]) #tweet.id"
      ],
      "metadata": {
        "colab": {
          "base_uri": "https://localhost:8080/"
        },
        "outputId": "a3089b76-da26-438c-cc49-3df88b716688",
        "id": "wpOlaJLuvOrZ"
      },
      "execution_count": null,
      "outputs": [
        {
          "output_type": "stream",
          "name": "stderr",
          "text": [
            "<ipython-input-50-5bff70d72ae3>:6: FutureWarning: content is deprecated, use rawContent instead\n",
            "  tweets_list.append([tweet.date, tweet.content, tweet.hashtags]) #tweet.id\n"
          ]
        }
      ]
    },
    {
      "cell_type": "code",
      "source": [
        "tweets_list_2022_10 = pd.DataFrame(tweets_list, columns=['Date', 'Text', 'Hashtags'])"
      ],
      "metadata": {
        "id": "T9R8xGLXvOra"
      },
      "execution_count": null,
      "outputs": []
    },
    {
      "cell_type": "code",
      "source": [
        "tweets_list_2022_10.head()"
      ],
      "metadata": {
        "colab": {
          "base_uri": "https://localhost:8080/",
          "height": 206
        },
        "outputId": "05055019-b15d-4628-a880-a8b864ebd7da",
        "id": "3CioKCPbvOra"
      },
      "execution_count": null,
      "outputs": [
        {
          "output_type": "execute_result",
          "data": {
            "text/plain": [
              "                       Date  \\\n",
              "0 2022-10-31 23:45:50+00:00   \n",
              "1 2022-10-31 23:39:29+00:00   \n",
              "2 2022-10-31 23:02:13+00:00   \n",
              "3 2022-10-31 22:38:00+00:00   \n",
              "4 2022-10-31 22:27:08+00:00   \n",
              "\n",
              "                                                Text  \\\n",
              "0  On Saturday we’re going to release our first c...   \n",
              "1  @johnkarp cryptopunk. i could've gotten one ea...   \n",
              "2  @Arthemort @SothebysInst Using AI for my Crypt...   \n",
              "3  Was going to get a hoodie punk. Which one? Wel...   \n",
              "4  ~•@FamousFoxFed is launching support on aptos ...   \n",
              "\n",
              "                                            Hashtags  \n",
              "0  [bull, bullnftart, nftartists, opensea, NonFun...  \n",
              "1                                               None  \n",
              "2                                               None  \n",
              "3                                    [hoodie, phunk]  \n",
              "4                                               None  "
            ],
            "text/html": [
              "\n",
              "  <div id=\"df-70ae4cb7-54e6-46e1-b30e-e81890818d92\">\n",
              "    <div class=\"colab-df-container\">\n",
              "      <div>\n",
              "<style scoped>\n",
              "    .dataframe tbody tr th:only-of-type {\n",
              "        vertical-align: middle;\n",
              "    }\n",
              "\n",
              "    .dataframe tbody tr th {\n",
              "        vertical-align: top;\n",
              "    }\n",
              "\n",
              "    .dataframe thead th {\n",
              "        text-align: right;\n",
              "    }\n",
              "</style>\n",
              "<table border=\"1\" class=\"dataframe\">\n",
              "  <thead>\n",
              "    <tr style=\"text-align: right;\">\n",
              "      <th></th>\n",
              "      <th>Date</th>\n",
              "      <th>Text</th>\n",
              "      <th>Hashtags</th>\n",
              "    </tr>\n",
              "  </thead>\n",
              "  <tbody>\n",
              "    <tr>\n",
              "      <th>0</th>\n",
              "      <td>2022-10-31 23:45:50+00:00</td>\n",
              "      <td>On Saturday we’re going to release our first c...</td>\n",
              "      <td>[bull, bullnftart, nftartists, opensea, NonFun...</td>\n",
              "    </tr>\n",
              "    <tr>\n",
              "      <th>1</th>\n",
              "      <td>2022-10-31 23:39:29+00:00</td>\n",
              "      <td>@johnkarp cryptopunk. i could've gotten one ea...</td>\n",
              "      <td>None</td>\n",
              "    </tr>\n",
              "    <tr>\n",
              "      <th>2</th>\n",
              "      <td>2022-10-31 23:02:13+00:00</td>\n",
              "      <td>@Arthemort @SothebysInst Using AI for my Crypt...</td>\n",
              "      <td>None</td>\n",
              "    </tr>\n",
              "    <tr>\n",
              "      <th>3</th>\n",
              "      <td>2022-10-31 22:38:00+00:00</td>\n",
              "      <td>Was going to get a hoodie punk. Which one? Wel...</td>\n",
              "      <td>[hoodie, phunk]</td>\n",
              "    </tr>\n",
              "    <tr>\n",
              "      <th>4</th>\n",
              "      <td>2022-10-31 22:27:08+00:00</td>\n",
              "      <td>~•@FamousFoxFed is launching support on aptos ...</td>\n",
              "      <td>None</td>\n",
              "    </tr>\n",
              "  </tbody>\n",
              "</table>\n",
              "</div>\n",
              "      <button class=\"colab-df-convert\" onclick=\"convertToInteractive('df-70ae4cb7-54e6-46e1-b30e-e81890818d92')\"\n",
              "              title=\"Convert this dataframe to an interactive table.\"\n",
              "              style=\"display:none;\">\n",
              "        \n",
              "  <svg xmlns=\"http://www.w3.org/2000/svg\" height=\"24px\"viewBox=\"0 0 24 24\"\n",
              "       width=\"24px\">\n",
              "    <path d=\"M0 0h24v24H0V0z\" fill=\"none\"/>\n",
              "    <path d=\"M18.56 5.44l.94 2.06.94-2.06 2.06-.94-2.06-.94-.94-2.06-.94 2.06-2.06.94zm-11 1L8.5 8.5l.94-2.06 2.06-.94-2.06-.94L8.5 2.5l-.94 2.06-2.06.94zm10 10l.94 2.06.94-2.06 2.06-.94-2.06-.94-.94-2.06-.94 2.06-2.06.94z\"/><path d=\"M17.41 7.96l-1.37-1.37c-.4-.4-.92-.59-1.43-.59-.52 0-1.04.2-1.43.59L10.3 9.45l-7.72 7.72c-.78.78-.78 2.05 0 2.83L4 21.41c.39.39.9.59 1.41.59.51 0 1.02-.2 1.41-.59l7.78-7.78 2.81-2.81c.8-.78.8-2.07 0-2.86zM5.41 20L4 18.59l7.72-7.72 1.47 1.35L5.41 20z\"/>\n",
              "  </svg>\n",
              "      </button>\n",
              "      \n",
              "  <style>\n",
              "    .colab-df-container {\n",
              "      display:flex;\n",
              "      flex-wrap:wrap;\n",
              "      gap: 12px;\n",
              "    }\n",
              "\n",
              "    .colab-df-convert {\n",
              "      background-color: #E8F0FE;\n",
              "      border: none;\n",
              "      border-radius: 50%;\n",
              "      cursor: pointer;\n",
              "      display: none;\n",
              "      fill: #1967D2;\n",
              "      height: 32px;\n",
              "      padding: 0 0 0 0;\n",
              "      width: 32px;\n",
              "    }\n",
              "\n",
              "    .colab-df-convert:hover {\n",
              "      background-color: #E2EBFA;\n",
              "      box-shadow: 0px 1px 2px rgba(60, 64, 67, 0.3), 0px 1px 3px 1px rgba(60, 64, 67, 0.15);\n",
              "      fill: #174EA6;\n",
              "    }\n",
              "\n",
              "    [theme=dark] .colab-df-convert {\n",
              "      background-color: #3B4455;\n",
              "      fill: #D2E3FC;\n",
              "    }\n",
              "\n",
              "    [theme=dark] .colab-df-convert:hover {\n",
              "      background-color: #434B5C;\n",
              "      box-shadow: 0px 1px 3px 1px rgba(0, 0, 0, 0.15);\n",
              "      filter: drop-shadow(0px 1px 2px rgba(0, 0, 0, 0.3));\n",
              "      fill: #FFFFFF;\n",
              "    }\n",
              "  </style>\n",
              "\n",
              "      <script>\n",
              "        const buttonEl =\n",
              "          document.querySelector('#df-70ae4cb7-54e6-46e1-b30e-e81890818d92 button.colab-df-convert');\n",
              "        buttonEl.style.display =\n",
              "          google.colab.kernel.accessAllowed ? 'block' : 'none';\n",
              "\n",
              "        async function convertToInteractive(key) {\n",
              "          const element = document.querySelector('#df-70ae4cb7-54e6-46e1-b30e-e81890818d92');\n",
              "          const dataTable =\n",
              "            await google.colab.kernel.invokeFunction('convertToInteractive',\n",
              "                                                     [key], {});\n",
              "          if (!dataTable) return;\n",
              "\n",
              "          const docLinkHtml = 'Like what you see? Visit the ' +\n",
              "            '<a target=\"_blank\" href=https://colab.research.google.com/notebooks/data_table.ipynb>data table notebook</a>'\n",
              "            + ' to learn more about interactive tables.';\n",
              "          element.innerHTML = '';\n",
              "          dataTable['output_type'] = 'display_data';\n",
              "          await google.colab.output.renderOutput(dataTable, element);\n",
              "          const docLink = document.createElement('div');\n",
              "          docLink.innerHTML = docLinkHtml;\n",
              "          element.appendChild(docLink);\n",
              "        }\n",
              "      </script>\n",
              "    </div>\n",
              "  </div>\n",
              "  "
            ]
          },
          "metadata": {},
          "execution_count": 55
        }
      ]
    },
    {
      "cell_type": "code",
      "source": [
        "tweets_list_2022_10.to_csv(\"tweets_cryptopunk_2022_10.csv\")"
      ],
      "metadata": {
        "id": "F5o30dTGvOra"
      },
      "execution_count": null,
      "outputs": []
    },
    {
      "cell_type": "markdown",
      "source": [
        "# Merge"
      ],
      "metadata": {
        "id": "OIHjAMUsyr8A"
      }
    },
    {
      "cell_type": "code",
      "source": [
        "df1= pd.read_csv('tweets_cryptopunk_2020.csv')\n",
        "df2= pd.read_csv('tweets_cryptopunk_2021_05.csv')\n",
        "df3= pd.read_csv('tweets_cryptopunk_2021_08.csv')\n",
        "df4= pd.read_csv('tweets_cryptopunk_2021_10.csv')\n",
        "df5= pd.read_csv('tweets_cryptopunk_2021_12.csv')\n",
        "df6= pd.read_csv('tweets_cryptopunk_2022_03.csv')\n",
        "df7= pd.read_csv('tweets_cryptopunk_2022_07.csv')\n",
        "df8= pd.read_csv('tweets_cryptopunk_2022_10.csv')\n"
      ],
      "metadata": {
        "id": "fzAnMiX6F7s8"
      },
      "execution_count": null,
      "outputs": []
    },
    {
      "cell_type": "code",
      "source": [
        "df_all = pd.concat([df1, df2, df3, df4, df5,\n",
        "                    df6, df7, df8])"
      ],
      "metadata": {
        "id": "rQJOMa6MytH3"
      },
      "execution_count": null,
      "outputs": []
    },
    {
      "cell_type": "code",
      "source": [
        "df_all.tail()"
      ],
      "metadata": {
        "colab": {
          "base_uri": "https://localhost:8080/",
          "height": 206
        },
        "id": "nf8wYPVvzz4r",
        "outputId": "bdb02c6c-8db0-406b-b1b4-36ccfbfdc0d9"
      },
      "execution_count": null,
      "outputs": [
        {
          "output_type": "execute_result",
          "data": {
            "text/plain": [
              "       Unnamed: 0                       Date  \\\n",
              "14164     14164.0  2022-07-31 00:32:20+00:00   \n",
              "14165     14165.0  2022-07-31 00:31:22+00:00   \n",
              "14166     14166.0  2022-07-31 00:29:27+00:00   \n",
              "14167     14167.0  2022-07-31 00:20:12+00:00   \n",
              "14168     14168.0  2022-07-31 00:20:02+00:00   \n",
              "\n",
              "                                                    Text  \\\n",
              "14164  @mihaijr @C_Cryptopunk @operationSIN all my ho...   \n",
              "14165           @mihaijr @operationSIN I love everyone 🫶   \n",
              "14166  @casualties @operationSIN A day later I made m...   \n",
              "14167  NullAddress bought CryptoPunk #1829 for 0.00 E...   \n",
              "14168  CryptoPunk #1829 sold for 60.00 ETH ($101,834....   \n",
              "\n",
              "                             Hashtags  \n",
              "14164                             NaN  \n",
              "14165                             NaN  \n",
              "14166                             NaN  \n",
              "14167  ['nulladdress', 'cryptopunks']  \n",
              "14168   ['NFT', 'CryptoPunks', 'ETH']  "
            ],
            "text/html": [
              "\n",
              "  <div id=\"df-f1bdb915-4cf9-4ec9-bfac-e612775a7a38\">\n",
              "    <div class=\"colab-df-container\">\n",
              "      <div>\n",
              "<style scoped>\n",
              "    .dataframe tbody tr th:only-of-type {\n",
              "        vertical-align: middle;\n",
              "    }\n",
              "\n",
              "    .dataframe tbody tr th {\n",
              "        vertical-align: top;\n",
              "    }\n",
              "\n",
              "    .dataframe thead th {\n",
              "        text-align: right;\n",
              "    }\n",
              "</style>\n",
              "<table border=\"1\" class=\"dataframe\">\n",
              "  <thead>\n",
              "    <tr style=\"text-align: right;\">\n",
              "      <th></th>\n",
              "      <th>Unnamed: 0</th>\n",
              "      <th>Date</th>\n",
              "      <th>Text</th>\n",
              "      <th>Hashtags</th>\n",
              "    </tr>\n",
              "  </thead>\n",
              "  <tbody>\n",
              "    <tr>\n",
              "      <th>14164</th>\n",
              "      <td>14164.0</td>\n",
              "      <td>2022-07-31 00:32:20+00:00</td>\n",
              "      <td>@mihaijr @C_Cryptopunk @operationSIN all my ho...</td>\n",
              "      <td>NaN</td>\n",
              "    </tr>\n",
              "    <tr>\n",
              "      <th>14165</th>\n",
              "      <td>14165.0</td>\n",
              "      <td>2022-07-31 00:31:22+00:00</td>\n",
              "      <td>@mihaijr @operationSIN I love everyone 🫶</td>\n",
              "      <td>NaN</td>\n",
              "    </tr>\n",
              "    <tr>\n",
              "      <th>14166</th>\n",
              "      <td>14166.0</td>\n",
              "      <td>2022-07-31 00:29:27+00:00</td>\n",
              "      <td>@casualties @operationSIN A day later I made m...</td>\n",
              "      <td>NaN</td>\n",
              "    </tr>\n",
              "    <tr>\n",
              "      <th>14167</th>\n",
              "      <td>14167.0</td>\n",
              "      <td>2022-07-31 00:20:12+00:00</td>\n",
              "      <td>NullAddress bought CryptoPunk #1829 for 0.00 E...</td>\n",
              "      <td>['nulladdress', 'cryptopunks']</td>\n",
              "    </tr>\n",
              "    <tr>\n",
              "      <th>14168</th>\n",
              "      <td>14168.0</td>\n",
              "      <td>2022-07-31 00:20:02+00:00</td>\n",
              "      <td>CryptoPunk #1829 sold for 60.00 ETH ($101,834....</td>\n",
              "      <td>['NFT', 'CryptoPunks', 'ETH']</td>\n",
              "    </tr>\n",
              "  </tbody>\n",
              "</table>\n",
              "</div>\n",
              "      <button class=\"colab-df-convert\" onclick=\"convertToInteractive('df-f1bdb915-4cf9-4ec9-bfac-e612775a7a38')\"\n",
              "              title=\"Convert this dataframe to an interactive table.\"\n",
              "              style=\"display:none;\">\n",
              "        \n",
              "  <svg xmlns=\"http://www.w3.org/2000/svg\" height=\"24px\"viewBox=\"0 0 24 24\"\n",
              "       width=\"24px\">\n",
              "    <path d=\"M0 0h24v24H0V0z\" fill=\"none\"/>\n",
              "    <path d=\"M18.56 5.44l.94 2.06.94-2.06 2.06-.94-2.06-.94-.94-2.06-.94 2.06-2.06.94zm-11 1L8.5 8.5l.94-2.06 2.06-.94-2.06-.94L8.5 2.5l-.94 2.06-2.06.94zm10 10l.94 2.06.94-2.06 2.06-.94-2.06-.94-.94-2.06-.94 2.06-2.06.94z\"/><path d=\"M17.41 7.96l-1.37-1.37c-.4-.4-.92-.59-1.43-.59-.52 0-1.04.2-1.43.59L10.3 9.45l-7.72 7.72c-.78.78-.78 2.05 0 2.83L4 21.41c.39.39.9.59 1.41.59.51 0 1.02-.2 1.41-.59l7.78-7.78 2.81-2.81c.8-.78.8-2.07 0-2.86zM5.41 20L4 18.59l7.72-7.72 1.47 1.35L5.41 20z\"/>\n",
              "  </svg>\n",
              "      </button>\n",
              "      \n",
              "  <style>\n",
              "    .colab-df-container {\n",
              "      display:flex;\n",
              "      flex-wrap:wrap;\n",
              "      gap: 12px;\n",
              "    }\n",
              "\n",
              "    .colab-df-convert {\n",
              "      background-color: #E8F0FE;\n",
              "      border: none;\n",
              "      border-radius: 50%;\n",
              "      cursor: pointer;\n",
              "      display: none;\n",
              "      fill: #1967D2;\n",
              "      height: 32px;\n",
              "      padding: 0 0 0 0;\n",
              "      width: 32px;\n",
              "    }\n",
              "\n",
              "    .colab-df-convert:hover {\n",
              "      background-color: #E2EBFA;\n",
              "      box-shadow: 0px 1px 2px rgba(60, 64, 67, 0.3), 0px 1px 3px 1px rgba(60, 64, 67, 0.15);\n",
              "      fill: #174EA6;\n",
              "    }\n",
              "\n",
              "    [theme=dark] .colab-df-convert {\n",
              "      background-color: #3B4455;\n",
              "      fill: #D2E3FC;\n",
              "    }\n",
              "\n",
              "    [theme=dark] .colab-df-convert:hover {\n",
              "      background-color: #434B5C;\n",
              "      box-shadow: 0px 1px 3px 1px rgba(0, 0, 0, 0.15);\n",
              "      filter: drop-shadow(0px 1px 2px rgba(0, 0, 0, 0.3));\n",
              "      fill: #FFFFFF;\n",
              "    }\n",
              "  </style>\n",
              "\n",
              "      <script>\n",
              "        const buttonEl =\n",
              "          document.querySelector('#df-f1bdb915-4cf9-4ec9-bfac-e612775a7a38 button.colab-df-convert');\n",
              "        buttonEl.style.display =\n",
              "          google.colab.kernel.accessAllowed ? 'block' : 'none';\n",
              "\n",
              "        async function convertToInteractive(key) {\n",
              "          const element = document.querySelector('#df-f1bdb915-4cf9-4ec9-bfac-e612775a7a38');\n",
              "          const dataTable =\n",
              "            await google.colab.kernel.invokeFunction('convertToInteractive',\n",
              "                                                     [key], {});\n",
              "          if (!dataTable) return;\n",
              "\n",
              "          const docLinkHtml = 'Like what you see? Visit the ' +\n",
              "            '<a target=\"_blank\" href=https://colab.research.google.com/notebooks/data_table.ipynb>data table notebook</a>'\n",
              "            + ' to learn more about interactive tables.';\n",
              "          element.innerHTML = '';\n",
              "          dataTable['output_type'] = 'display_data';\n",
              "          await google.colab.output.renderOutput(dataTable, element);\n",
              "          const docLink = document.createElement('div');\n",
              "          docLink.innerHTML = docLinkHtml;\n",
              "          element.appendChild(docLink);\n",
              "        }\n",
              "      </script>\n",
              "    </div>\n",
              "  </div>\n",
              "  "
            ]
          },
          "metadata": {},
          "execution_count": 96
        }
      ]
    },
    {
      "cell_type": "code",
      "source": [
        "df_all['Date'] = pd.to_datetime(df_all['Date'], utc=True)\n",
        "\n",
        "df_all['Date'] = df_all['Date'].apply(lambda x: x.replace(tzinfo=None))\n",
        "\n",
        "df_all['Date'] = pd.to_datetime(df_all['Date'])\n",
        "\n",
        "# set time column as index\n",
        "df_all = df_all.set_index('Date')\n",
        "\n",
        "# sort dataframe by index (i.e., by time) in ascending order\n",
        "df_all = df_all.sort_index()"
      ],
      "metadata": {
        "id": "GyBKh6kS0aAf"
      },
      "execution_count": null,
      "outputs": []
    },
    {
      "cell_type": "code",
      "source": [
        "df_all = df_all.reset_index()"
      ],
      "metadata": {
        "id": "rJhb5er71Ihx"
      },
      "execution_count": null,
      "outputs": []
    },
    {
      "cell_type": "code",
      "source": [
        "df_all = df_all.loc[:, ~df_all.columns.str.startswith('Unnamed:')]"
      ],
      "metadata": {
        "id": "6nhJ6XbeII1S"
      },
      "execution_count": null,
      "outputs": []
    },
    {
      "cell_type": "code",
      "source": [
        "df_all = df_all.drop('Hashtags', axis=1)"
      ],
      "metadata": {
        "id": "05qOyi1nIOgv"
      },
      "execution_count": null,
      "outputs": []
    },
    {
      "cell_type": "code",
      "source": [
        "df_all.head()"
      ],
      "metadata": {
        "colab": {
          "base_uri": "https://localhost:8080/",
          "height": 206
        },
        "id": "SobZBsaM01sO",
        "outputId": "bf326ce9-8556-4e5f-b6a3-3aca4c88dcbe"
      },
      "execution_count": null,
      "outputs": [
        {
          "output_type": "execute_result",
          "data": {
            "text/plain": [
              "                 Date                                               Text\n",
              "0 2017-06-23 12:16:34  Got me an @dennisrodman #cryptopunk might be w...\n",
              "1 2017-06-24 00:03:08  @dennisrodman #cryptopunk number 7339 is up fo...\n",
              "2 2017-06-24 21:44:39  Just sold my first #CryptoPunk - all appears t...\n",
              "3 2017-06-24 22:53:21  Good job once again. #cryptocurrency #cryptopu...\n",
              "4 2017-06-24 23:58:42  I liked a @YouTube video https://t.co/8EE4BReY..."
            ],
            "text/html": [
              "\n",
              "  <div id=\"df-42be136c-1465-44f6-8513-fce037eb9669\">\n",
              "    <div class=\"colab-df-container\">\n",
              "      <div>\n",
              "<style scoped>\n",
              "    .dataframe tbody tr th:only-of-type {\n",
              "        vertical-align: middle;\n",
              "    }\n",
              "\n",
              "    .dataframe tbody tr th {\n",
              "        vertical-align: top;\n",
              "    }\n",
              "\n",
              "    .dataframe thead th {\n",
              "        text-align: right;\n",
              "    }\n",
              "</style>\n",
              "<table border=\"1\" class=\"dataframe\">\n",
              "  <thead>\n",
              "    <tr style=\"text-align: right;\">\n",
              "      <th></th>\n",
              "      <th>Date</th>\n",
              "      <th>Text</th>\n",
              "    </tr>\n",
              "  </thead>\n",
              "  <tbody>\n",
              "    <tr>\n",
              "      <th>0</th>\n",
              "      <td>2017-06-23 12:16:34</td>\n",
              "      <td>Got me an @dennisrodman #cryptopunk might be w...</td>\n",
              "    </tr>\n",
              "    <tr>\n",
              "      <th>1</th>\n",
              "      <td>2017-06-24 00:03:08</td>\n",
              "      <td>@dennisrodman #cryptopunk number 7339 is up fo...</td>\n",
              "    </tr>\n",
              "    <tr>\n",
              "      <th>2</th>\n",
              "      <td>2017-06-24 21:44:39</td>\n",
              "      <td>Just sold my first #CryptoPunk - all appears t...</td>\n",
              "    </tr>\n",
              "    <tr>\n",
              "      <th>3</th>\n",
              "      <td>2017-06-24 22:53:21</td>\n",
              "      <td>Good job once again. #cryptocurrency #cryptopu...</td>\n",
              "    </tr>\n",
              "    <tr>\n",
              "      <th>4</th>\n",
              "      <td>2017-06-24 23:58:42</td>\n",
              "      <td>I liked a @YouTube video https://t.co/8EE4BReY...</td>\n",
              "    </tr>\n",
              "  </tbody>\n",
              "</table>\n",
              "</div>\n",
              "      <button class=\"colab-df-convert\" onclick=\"convertToInteractive('df-42be136c-1465-44f6-8513-fce037eb9669')\"\n",
              "              title=\"Convert this dataframe to an interactive table.\"\n",
              "              style=\"display:none;\">\n",
              "        \n",
              "  <svg xmlns=\"http://www.w3.org/2000/svg\" height=\"24px\"viewBox=\"0 0 24 24\"\n",
              "       width=\"24px\">\n",
              "    <path d=\"M0 0h24v24H0V0z\" fill=\"none\"/>\n",
              "    <path d=\"M18.56 5.44l.94 2.06.94-2.06 2.06-.94-2.06-.94-.94-2.06-.94 2.06-2.06.94zm-11 1L8.5 8.5l.94-2.06 2.06-.94-2.06-.94L8.5 2.5l-.94 2.06-2.06.94zm10 10l.94 2.06.94-2.06 2.06-.94-2.06-.94-.94-2.06-.94 2.06-2.06.94z\"/><path d=\"M17.41 7.96l-1.37-1.37c-.4-.4-.92-.59-1.43-.59-.52 0-1.04.2-1.43.59L10.3 9.45l-7.72 7.72c-.78.78-.78 2.05 0 2.83L4 21.41c.39.39.9.59 1.41.59.51 0 1.02-.2 1.41-.59l7.78-7.78 2.81-2.81c.8-.78.8-2.07 0-2.86zM5.41 20L4 18.59l7.72-7.72 1.47 1.35L5.41 20z\"/>\n",
              "  </svg>\n",
              "      </button>\n",
              "      \n",
              "  <style>\n",
              "    .colab-df-container {\n",
              "      display:flex;\n",
              "      flex-wrap:wrap;\n",
              "      gap: 12px;\n",
              "    }\n",
              "\n",
              "    .colab-df-convert {\n",
              "      background-color: #E8F0FE;\n",
              "      border: none;\n",
              "      border-radius: 50%;\n",
              "      cursor: pointer;\n",
              "      display: none;\n",
              "      fill: #1967D2;\n",
              "      height: 32px;\n",
              "      padding: 0 0 0 0;\n",
              "      width: 32px;\n",
              "    }\n",
              "\n",
              "    .colab-df-convert:hover {\n",
              "      background-color: #E2EBFA;\n",
              "      box-shadow: 0px 1px 2px rgba(60, 64, 67, 0.3), 0px 1px 3px 1px rgba(60, 64, 67, 0.15);\n",
              "      fill: #174EA6;\n",
              "    }\n",
              "\n",
              "    [theme=dark] .colab-df-convert {\n",
              "      background-color: #3B4455;\n",
              "      fill: #D2E3FC;\n",
              "    }\n",
              "\n",
              "    [theme=dark] .colab-df-convert:hover {\n",
              "      background-color: #434B5C;\n",
              "      box-shadow: 0px 1px 3px 1px rgba(0, 0, 0, 0.15);\n",
              "      filter: drop-shadow(0px 1px 2px rgba(0, 0, 0, 0.3));\n",
              "      fill: #FFFFFF;\n",
              "    }\n",
              "  </style>\n",
              "\n",
              "      <script>\n",
              "        const buttonEl =\n",
              "          document.querySelector('#df-42be136c-1465-44f6-8513-fce037eb9669 button.colab-df-convert');\n",
              "        buttonEl.style.display =\n",
              "          google.colab.kernel.accessAllowed ? 'block' : 'none';\n",
              "\n",
              "        async function convertToInteractive(key) {\n",
              "          const element = document.querySelector('#df-42be136c-1465-44f6-8513-fce037eb9669');\n",
              "          const dataTable =\n",
              "            await google.colab.kernel.invokeFunction('convertToInteractive',\n",
              "                                                     [key], {});\n",
              "          if (!dataTable) return;\n",
              "\n",
              "          const docLinkHtml = 'Like what you see? Visit the ' +\n",
              "            '<a target=\"_blank\" href=https://colab.research.google.com/notebooks/data_table.ipynb>data table notebook</a>'\n",
              "            + ' to learn more about interactive tables.';\n",
              "          element.innerHTML = '';\n",
              "          dataTable['output_type'] = 'display_data';\n",
              "          await google.colab.output.renderOutput(dataTable, element);\n",
              "          const docLink = document.createElement('div');\n",
              "          docLink.innerHTML = docLinkHtml;\n",
              "          element.appendChild(docLink);\n",
              "        }\n",
              "      </script>\n",
              "    </div>\n",
              "  </div>\n",
              "  "
            ]
          },
          "metadata": {},
          "execution_count": 106
        }
      ]
    },
    {
      "cell_type": "code",
      "source": [
        "df_all.to_csv(\"tweets_cryptopunk_2017_2022.csv\")"
      ],
      "metadata": {
        "id": "mv_m_W481M0O"
      },
      "execution_count": null,
      "outputs": []
    }
  ]
}