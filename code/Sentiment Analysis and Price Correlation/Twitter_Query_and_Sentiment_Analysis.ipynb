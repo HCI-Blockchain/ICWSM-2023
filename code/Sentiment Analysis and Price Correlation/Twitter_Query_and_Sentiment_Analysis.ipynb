{
  "cells": [
    {
      "cell_type": "markdown",
      "metadata": {
        "id": "PEeY_A_ZCZNq"
      },
      "source": [
        "# Apply Louhran and McDonald 2014 Dictionary"
      ]
    },
    {
      "cell_type": "code",
      "execution_count": null,
      "metadata": {
        "id": "IGUt6pnDHRRR"
      },
      "outputs": [],
      "source": [
        "import re\n",
        " \n",
        "# Loughran and McDonald Sentiment Word Lists (https://sraf.nd.edu/loughranmcdonald-master-dictionary/)\n",
        "lmdict = {'Negative': ['abandon', 'abandoned', 'abandoning', 'abandonment', 'abandonments', 'abandons', 'abdicated',\n",
        "                       'abdicates', 'abdicating', 'abdication', 'abdications', 'aberrant', 'aberration', 'aberrational',\n",
        "                       'aberrations', 'abetting', 'abnormal', 'abnormalities', 'abnormality', 'abnormally', 'abolish',\n",
        "                       'abolished', 'abolishes', 'abolishing', 'abrogate', 'abrogated', 'abrogates', 'abrogating',\n",
        "                       'abrogation', 'abrogations', 'abrupt', 'abruptly', 'abruptness', 'absence', 'absences',\n",
        "                       'absenteeism', 'abuse', 'abused', 'abuses', 'abusing', 'abusive', 'abusively', 'abusiveness',\n",
        "                       'accident', 'accidental', 'accidentally', 'accidents', 'accusation', 'accusations', 'accuse',\n",
        "                       'accused', 'accuses', 'accusing', 'acquiesce', 'acquiesced', 'acquiesces', 'acquiescing',\n",
        "                       'acquit', 'acquits', 'acquittal', 'acquittals', 'acquitted', 'acquitting', 'adulterate',\n",
        "                       'adulterated', 'adulterating', 'adulteration', 'adulterations', 'adversarial', 'adversaries',\n",
        "                       'adversary', 'adverse', 'adversely', 'adversities', 'adversity', 'aftermath', 'aftermaths',\n",
        "                       'against', 'aggravate', 'aggravated', 'aggravates', 'aggravating', 'aggravation', 'aggravations',\n",
        "                       'alerted', 'alerting', 'alienate', 'alienated', 'alienates', 'alienating', 'alienation',\n",
        "                       'alienations', 'allegation', 'allegations', 'allege', 'alleged', 'allegedly', 'alleges',\n",
        "                       'alleging', 'annoy', 'annoyance', 'annoyances', 'annoyed', 'annoying', 'annoys', 'annul',\n",
        "                       'annulled', 'annulling', 'annulment', 'annulments', 'annuls', 'anomalies', 'anomalous',\n",
        "                       'anomalously', 'anomaly', 'anticompetitive', 'antitrust', 'argue', 'argued', 'arguing',\n",
        "                       'argument', 'argumentative', 'arguments', 'arrearage', 'arrearages', 'arrears', 'arrest',\n",
        "                       'arrested', 'arrests', 'artificially', 'assault', 'assaulted', 'assaulting', 'assaults',\n",
        "                       'assertions', 'attrition', 'aversely', 'backdating', 'bad', 'bail', 'bailout', 'balk', 'balked',\n",
        "                       'bankrupt', 'bankruptcies', 'bankruptcy', 'bankrupted', 'bankrupting', 'bankrupts', 'bans',\n",
        "                       'barred', 'barrier', 'barriers', 'bottleneck', 'bottlenecks', 'boycott', 'boycotted',\n",
        "                       'boycotting', 'boycotts', 'breach', 'breached', 'breaches', 'breaching', 'break', 'breakage',\n",
        "                       'breakages', 'breakdown', 'breakdowns', 'breaking', 'breaks', 'bribe', 'bribed', 'briberies',\n",
        "                       'bribery', 'bribes', 'bribing', 'bridge', 'broken', 'burden', 'burdened', 'burdening', 'burdens',\n",
        "                       'burdensome', 'burned', 'calamities', 'calamitous', 'calamity', 'cancel', 'canceled',\n",
        "                       'canceling', 'cancellation', 'cancellations', 'cancelled', 'cancelling', 'cancels', 'careless',\n",
        "                       'carelessly', 'carelessness', 'catastrophe', 'catastrophes', 'catastrophic', 'catastrophically',\n",
        "                       'caution', 'cautionary', 'cautioned', 'cautioning', 'cautions', 'cease', 'ceased', 'ceases',\n",
        "                       'ceasing', 'censure', 'censured', 'censures', 'censuring', 'challenge', 'challenged',\n",
        "                       'challenges', 'challenging', 'chargeoffs', 'circumvent', 'circumvented', 'circumventing',\n",
        "                       'circumvention', 'circumventions', 'circumvents', 'claiming', 'claims', 'clawback', 'closed',\n",
        "                       'closeout', 'closeouts', 'closing', 'closings', 'closure', 'closures', 'coerce', 'coerced',\n",
        "                       'coerces', 'coercing', 'coercion', 'coercive', 'collapse', 'collapsed', 'collapses',\n",
        "                       'collapsing', 'collision', 'collisions', 'collude', 'colluded', 'colludes', 'colluding',\n",
        "                       'collusion', 'collusions', 'collusive', 'complain', 'complained', 'complaining', 'complains',\n",
        "                       'complaint', 'complaints', 'complicate', 'complicated', 'complicates', 'complicating',\n",
        "                       'complication', 'complications', 'compulsion', 'concealed', 'concealing', 'concede', 'conceded',\n",
        "                       'concedes', 'conceding', 'concern', 'concerned', 'concerns', 'conciliating', 'conciliation',\n",
        "                       'conciliations', 'condemn', 'condemnation', 'condemnations', 'condemned', 'condemning',\n",
        "                       'condemns', 'condone', 'condoned', 'confess', 'confessed', 'confesses', 'confessing',\n",
        "                       'confession', 'confine', 'confined', 'confinement', 'confinements', 'confines', 'confining',\n",
        "                       'confiscate', 'confiscated', 'confiscates', 'confiscating', 'confiscation', 'confiscations',\n",
        "                       'conflict', 'conflicted', 'conflicting', 'conflicts', 'confront', 'confrontation',\n",
        "                       'confrontational', 'confrontations', 'confronted', 'confronting', 'confronts', 'confuse',\n",
        "                       'confused', 'confuses', 'confusing', 'confusingly', 'confusion', 'conspiracies', 'conspiracy',\n",
        "                       'conspirator', 'conspiratorial', 'conspirators', 'conspire', 'conspired', 'conspires',\n",
        "                       'conspiring', 'contempt', 'contend', 'contended', 'contending', 'contends', 'contention',\n",
        "                       'contentions', 'contentious', 'contentiously', 'contested', 'contesting', 'contraction',\n",
        "                       'contractions', 'contradict', 'contradicted', 'contradicting', 'contradiction', 'contradictions',\n",
        "                       'contradictory', 'contradicts', 'contrary', 'controversial', 'controversies', 'controversy',\n",
        "                       'convict', 'convicted', 'convicting', 'conviction', 'convictions', 'corrected', 'correcting',\n",
        "                       'correction', 'corrections', 'corrects', 'corrupt', 'corrupted', 'corrupting', 'corruption',\n",
        "                       'corruptions', 'corruptly', 'corruptness', 'costly', 'counterclaim', 'counterclaimed',\n",
        "                       'counterclaiming', 'counterclaims', 'counterfeit', 'counterfeited', 'counterfeiter',\n",
        "                       'counterfeiters', 'counterfeiting', 'counterfeits', 'countermeasure', 'countermeasures', 'crime',\n",
        "                       'crimes', 'criminal', 'criminally', 'criminals', 'crises', 'crisis', 'critical', 'critically',\n",
        "                       'criticism', 'criticisms', 'criticize', 'criticized', 'criticizes', 'criticizing', 'crucial',\n",
        "                       'crucially', 'culpability', 'culpable', 'culpably', 'cumbersome', 'curtail', 'curtailed',\n",
        "                       'curtailing', 'curtailment', 'curtailments', 'curtails', 'cut', 'cutback', 'cutbacks',\n",
        "                       'cyberattack', 'cyberattacks', 'cyberbullying', 'cybercrime', 'cybercrimes', 'cybercriminal',\n",
        "                       'cybercriminals', 'damage', 'damaged', 'damages', 'damaging', 'dampen', 'dampened', 'danger',\n",
        "                       'dangerous', 'dangerously', 'dangers', 'deadlock', 'deadlocked', 'deadlocking', 'deadlocks',\n",
        "                       'deadweight', 'deadweights', 'debarment', 'debarments', 'debarred', 'deceased', 'deceit',\n",
        "                       'deceitful', 'deceitfulness', 'deceive', 'deceived', 'deceives', 'deceiving', 'deception',\n",
        "                       'deceptions', 'deceptive', 'deceptively', 'decline', 'declined', 'declines', 'declining',\n",
        "                       'deface', 'defaced', 'defacement', 'defamation', 'defamations', 'defamatory', 'defame',\n",
        "                       'defamed', 'defames', 'defaming', 'default', 'defaulted', 'defaulting', 'defaults', 'defeat',\n",
        "                       'defeated', 'defeating', 'defeats', 'defect', 'defective', 'defects', 'defend', 'defendant',\n",
        "                       'defendants', 'defended', 'defending', 'defends', 'defensive', 'defer', 'deficiencies',\n",
        "                       'deficiency', 'deficient', 'deficit', 'deficits', 'defraud', 'defrauded', 'defrauding',\n",
        "                       'defrauds', 'defunct', 'degradation', 'degradations', 'degrade', 'degraded', 'degrades',\n",
        "                       'degrading', 'delay', 'delayed', 'delaying', 'delays', 'deleterious', 'deliberate',\n",
        "                       'deliberated', 'deliberately', 'delinquencies', 'delinquency', 'delinquent', 'delinquently',\n",
        "                       'delinquents', 'delist', 'delisted', 'delisting', 'delists', 'demise', 'demised', 'demises',\n",
        "                       'demising', 'demolish', 'demolished', 'demolishes', 'demolishing', 'demolition', 'demolitions',\n",
        "                       'demote', 'demoted', 'demotes', 'demoting', 'demotion', 'demotions', 'denial', 'denials',\n",
        "                       'denied', 'denies', 'denigrate', 'denigrated', 'denigrates', 'denigrating', 'denigration',\n",
        "                       'deny', 'denying', 'deplete', 'depleted', 'depletes', 'depleting', 'depletion', 'depletions',\n",
        "                       'deprecation', 'depress', 'depressed', 'depresses', 'depressing', 'deprivation', 'deprive',\n",
        "                       'deprived', 'deprives', 'depriving', 'derelict', 'dereliction', 'derogatory', 'destabilization',\n",
        "                       'destabilize', 'destabilized', 'destabilizing', 'destroy', 'destroyed', 'destroying', 'destroys',\n",
        "                       'destruction', 'destructive', 'detain', 'detained', 'detention', 'detentions', 'deter',\n",
        "                       'deteriorate', 'deteriorated', 'deteriorates', 'deteriorating', 'deterioration',\n",
        "                       'deteriorations', 'deterred', 'deterrence', 'deterrences', 'deterrent', 'deterrents',\n",
        "                       'deterring', 'deters', 'detract', 'detracted', 'detracting', 'detriment', 'detrimental',\n",
        "                       'detrimentally', 'detriments', 'devalue', 'devalued', 'devalues', 'devaluing', 'devastate',\n",
        "                       'devastated', 'devastating', 'devastation', 'deviate', 'deviated', 'deviates', 'deviating',\n",
        "                       'deviation', 'deviations', 'devolve', 'devolved', 'devolves', 'devolving', 'difficult',\n",
        "                       'difficulties', 'difficultly', 'difficulty', 'diminish', 'diminished', 'diminishes',\n",
        "                       'diminishing', 'diminution', 'disadvantage', 'disadvantaged', 'disadvantageous', 'disadvantages',\n",
        "                       'disaffiliation', 'disagree', 'disagreeable', 'disagreed', 'disagreeing', 'disagreement',\n",
        "                       'disagreements', 'disagrees', 'disallow', 'disallowance', 'disallowances', 'disallowed',\n",
        "                       'disallowing', 'disallows', 'disappear', 'disappearance', 'disappearances', 'disappeared',\n",
        "                       'disappearing', 'disappears', 'disappoint', 'disappointed', 'disappointing', 'disappointingly',\n",
        "                       'disappointment', 'disappointments', 'disappoints', 'disapproval', 'disapprovals', 'disapprove',\n",
        "                       'disapproved', 'disapproves', 'disapproving', 'disassociates', 'disassociating',\n",
        "                       'disassociation', 'disassociations', 'disaster', 'disasters', 'disastrous', 'disastrously',\n",
        "                       'disavow', 'disavowal', 'disavowed', 'disavowing', 'disavows', 'disciplinary', 'disclaim',\n",
        "                       'disclaimed', 'disclaimer', 'disclaimers', 'disclaiming', 'disclaims', 'disclose', 'disclosed',\n",
        "                       'discloses', 'disclosing', 'discontinuance', 'discontinuances', 'discontinuation',\n",
        "                       'discontinuations', 'discontinue', 'discontinued', 'discontinues', 'discontinuing', 'discourage',\n",
        "                       'discouraged', 'discourages', 'discouraging', 'discredit', 'discredited', 'discrediting',\n",
        "                       'discredits', 'discrepancies', 'discrepancy', 'disfavor', 'disfavored', 'disfavoring',\n",
        "                       'disfavors', 'disgorge', 'disgorged', 'disgorgement', 'disgorgements', 'disgorges', 'disgorging',\n",
        "                       'disgrace', 'disgraceful', 'disgracefully', 'dishonest', 'dishonestly', 'dishonesty', 'dishonor',\n",
        "                       'dishonorable', 'dishonorably', 'dishonored', 'dishonoring', 'dishonors', 'disincentives',\n",
        "                       'disinterested', 'disinterestedly', 'disinterestedness', 'disloyal', 'disloyally', 'disloyalty',\n",
        "                       'dismal', 'dismally', 'dismiss', 'dismissal', 'dismissals', 'dismissed', 'dismisses',\n",
        "                       'dismissing', 'disorderly', 'disparage', 'disparaged', 'disparagement', 'disparagements',\n",
        "                       'disparages', 'disparaging', 'disparagingly', 'disparities', 'disparity', 'displace',\n",
        "                       'displaced', 'displacement', 'displacements', 'displaces', 'displacing', 'dispose', 'dispossess',\n",
        "                       'dispossessed', 'dispossesses', 'dispossessing', 'disproportion', 'disproportional',\n",
        "                       'disproportionate', 'disproportionately', 'dispute', 'disputed', 'disputes', 'disputing',\n",
        "                       'disqualification', 'disqualifications', 'disqualified', 'disqualifies', 'disqualify',\n",
        "                       'disqualifying', 'disregard', 'disregarded', 'disregarding', 'disregards', 'disreputable',\n",
        "                       'disrepute', 'disrupt', 'disrupted', 'disrupting', 'disruption', 'disruptions', 'disruptive',\n",
        "                       'disrupts', 'dissatisfaction', 'dissatisfied', 'dissent', 'dissented', 'dissenter', 'dissenters',\n",
        "                       'dissenting', 'dissents', 'dissident', 'dissidents', 'dissolution', 'dissolutions', 'distort',\n",
        "                       'distorted', 'distorting', 'distortion', 'distortions', 'distorts', 'distract', 'distracted',\n",
        "                       'distracting', 'distraction', 'distractions', 'distracts', 'distress', 'distressed', 'disturb',\n",
        "                       'disturbance', 'disturbances', 'disturbed', 'disturbing', 'disturbs', 'diversion', 'divert',\n",
        "                       'diverted', 'diverting', 'diverts', 'divest', 'divested', 'divesting', 'divestiture',\n",
        "                       'divestitures', 'divestment', 'divestments', 'divests', 'divorce', 'divorced', 'divulge',\n",
        "                       'divulged', 'divulges', 'divulging', 'doubt', 'doubted', 'doubtful', 'doubts', 'downgrade',\n",
        "                       'downgraded', 'downgrades', 'downgrading', 'downsize', 'downsized', 'downsizes', 'downsizing',\n",
        "                       'downsizings', 'downtime', 'downtimes', 'downturn', 'downturns', 'downward', 'downwards', 'drag',\n",
        "                       'drastic', 'drastically', 'drawback', 'drawbacks', 'dropped', 'drought', 'droughts', 'duress',\n",
        "                       'dysfunction', 'dysfunctional', 'dysfunctions', 'easing', 'egregious', 'egregiously', 'embargo',\n",
        "                       'embargoed', 'embargoes', 'embargoing', 'embarrass', 'embarrassed', 'embarrasses',\n",
        "                       'embarrassing', 'embarrassment', 'embarrassments', 'embezzle', 'embezzled', 'embezzlement',\n",
        "                       'embezzlements', 'embezzler', 'embezzles', 'embezzling', 'encroach', 'encroached', 'encroaches',\n",
        "                       'encroaching', 'encroachment', 'encroachments', 'encumber', 'encumbered', 'encumbering',\n",
        "                       'encumbers', 'encumbrance', 'encumbrances', 'endanger', 'endangered', 'endangering',\n",
        "                       'endangerment', 'endangers', 'enjoin', 'enjoined', 'enjoining', 'enjoins', 'erode', 'eroded',\n",
        "                       'erodes', 'eroding', 'erosion', 'erratic', 'erratically', 'erred', 'erring', 'erroneous',\n",
        "                       'erroneously', 'error', 'errors', 'errs', 'escalate', 'escalated', 'escalates', 'escalating',\n",
        "                       'evade', 'evaded', 'evades', 'evading', 'evasion', 'evasions', 'evasive', 'evict', 'evicted',\n",
        "                       'evicting', 'eviction', 'evictions', 'evicts', 'exacerbate', 'exacerbated', 'exacerbates',\n",
        "                       'exacerbating', 'exacerbation', 'exacerbations', 'exaggerate', 'exaggerated', 'exaggerates',\n",
        "                       'exaggerating', 'exaggeration', 'excessive', 'excessively', 'exculpate', 'exculpated',\n",
        "                       'exculpates', 'exculpating', 'exculpation', 'exculpations', 'exculpatory', 'exonerate',\n",
        "                       'exonerated', 'exonerates', 'exonerating', 'exoneration', 'exonerations', 'exploit',\n",
        "                       'exploitation', 'exploitations', 'exploitative', 'exploited', 'exploiting', 'exploits', 'expose',\n",
        "                       'exposed', 'exposes', 'exposing', 'expropriate', 'expropriated', 'expropriates', 'expropriating',\n",
        "                       'expropriation', 'expropriations', 'expulsion', 'expulsions', 'extenuating', 'fail', 'failed',\n",
        "                       'failing', 'failings', 'fails', 'failure', 'failures', 'fallout', 'false', 'falsely',\n",
        "                       'falsification', 'falsifications', 'falsified', 'falsifies', 'falsify', 'falsifying', 'falsity',\n",
        "                       'fatalities', 'fatality', 'fatally', 'fault', 'faulted', 'faults', 'faulty', 'fear', 'fears',\n",
        "                       'felonies', 'felonious', 'felony', 'fictitious', 'fined', 'fines', 'fired', 'firing', 'flaw',\n",
        "                       'flawed', 'flaws', 'forbid', 'forbidden', 'forbidding', 'forbids', 'force', 'forced', 'forcing',\n",
        "                       'foreclose', 'foreclosed', 'forecloses', 'foreclosing', 'foreclosure', 'foreclosures', 'forego',\n",
        "                       'foregoes', 'foregone', 'forestall', 'forestalled', 'forestalling', 'forestalls', 'forfeit',\n",
        "                       'forfeited', 'forfeiting', 'forfeits', 'forfeiture', 'forfeitures', 'forgers', 'forgery',\n",
        "                       'fraud', 'frauds', 'fraudulence', 'fraudulent', 'fraudulently', 'frivolous', 'frivolously',\n",
        "                       'frustrate', 'frustrated', 'frustrates', 'frustrating', 'frustratingly', 'frustration',\n",
        "                       'frustrations', 'fugitive', 'fugitives', 'gratuitous', 'gratuitously', 'grievance', 'grievances',\n",
        "                       'grossly', 'groundless', 'guilty', 'halt', 'halted', 'hamper', 'hampered', 'hampering',\n",
        "                       'hampers', 'harass', 'harassed', 'harassing', 'harassment', 'hardship', 'hardships', 'harm',\n",
        "                       'harmed', 'harmful', 'harmfully', 'harming', 'harms', 'harsh', 'harsher', 'harshest', 'harshly',\n",
        "                       'harshness', 'hazard', 'hazardous', 'hazards', 'hinder', 'hindered', 'hindering', 'hinders',\n",
        "                       'hindrance', 'hindrances', 'hostile', 'hostility', 'hurt', 'hurting', 'idle', 'idled', 'idling',\n",
        "                       'ignore', 'ignored', 'ignores', 'ignoring', 'ill', 'illegal', 'illegalities', 'illegality',\n",
        "                       'illegally', 'illegible', 'illicit', 'illicitly', 'illiquid', 'illiquidity', 'imbalance',\n",
        "                       'imbalances', 'immature', 'immoral', 'impair', 'impaired', 'impairing', 'impairment',\n",
        "                       'impairments', 'impairs', 'impasse', 'impasses', 'impede', 'impeded', 'impedes', 'impediment',\n",
        "                       'impediments', 'impeding', 'impending', 'imperative', 'imperfection', 'imperfections', 'imperil',\n",
        "                       'impermissible', 'implicate', 'implicated', 'implicates', 'implicating', 'impossibility',\n",
        "                       'impossible', 'impound', 'impounded', 'impounding', 'impounds', 'impracticable', 'impractical',\n",
        "                       'impracticalities', 'impracticality', 'imprisonment', 'improper', 'improperly', 'improprieties',\n",
        "                       'impropriety', 'imprudent', 'imprudently', 'inability', 'inaccessible', 'inaccuracies',\n",
        "                       'inaccuracy', 'inaccurate', 'inaccurately', 'inaction', 'inactions', 'inactivate', 'inactivated',\n",
        "                       'inactivates', 'inactivating', 'inactivation', 'inactivations', 'inactivity', 'inadequacies',\n",
        "                       'inadequacy', 'inadequate', 'inadequately', 'inadvertent', 'inadvertently', 'inadvisability',\n",
        "                       'inadvisable', 'inappropriate', 'inappropriately', 'inattention', 'incapable', 'incapacitated',\n",
        "                       'incapacity', 'incarcerate', 'incarcerated', 'incarcerates', 'incarcerating', 'incarceration',\n",
        "                       'incarcerations', 'incidence', 'incidences', 'incident', 'incidents', 'incompatibilities',\n",
        "                       'incompatibility', 'incompatible', 'incompetence', 'incompetency', 'incompetent',\n",
        "                       'incompetently', 'incompetents', 'incomplete', 'incompletely', 'incompleteness', 'inconclusive',\n",
        "                       'inconsistencies', 'inconsistency', 'inconsistent', 'inconsistently', 'inconvenience',\n",
        "                       'inconveniences', 'inconvenient', 'incorrect', 'incorrectly', 'incorrectness', 'indecency',\n",
        "                       'indecent', 'indefeasible', 'indefeasibly', 'indict', 'indictable', 'indicted', 'indicting',\n",
        "                       'indictment', 'indictments', 'ineffective', 'ineffectively', 'ineffectiveness', 'inefficiencies',\n",
        "                       'inefficiency', 'inefficient', 'inefficiently', 'ineligibility', 'ineligible', 'inequitable',\n",
        "                       'inequitably', 'inequities', 'inequity', 'inevitable', 'inexperience', 'inexperienced',\n",
        "                       'inferior', 'inflicted', 'infraction', 'infractions', 'infringe', 'infringed', 'infringement',\n",
        "                       'infringements', 'infringes', 'infringing', 'inhibited', 'inimical', 'injunction', 'injunctions',\n",
        "                       'injure', 'injured', 'injures', 'injuries', 'injuring', 'injurious', 'injury', 'inordinate',\n",
        "                       'inordinately', 'inquiry', 'insecure', 'insensitive', 'insolvencies', 'insolvency', 'insolvent',\n",
        "                       'instability', 'insubordination', 'insufficiency', 'insufficient', 'insufficiently',\n",
        "                       'insurrection', 'insurrections', 'intentional', 'interfere', 'interfered', 'interference',\n",
        "                       'interferences', 'interferes', 'interfering', 'intermittent', 'intermittently', 'interrupt',\n",
        "                       'interrupted', 'interrupting', 'interruption', 'interruptions', 'interrupts', 'intimidation',\n",
        "                       'intrusion', 'invalid', 'invalidate', 'invalidated', 'invalidates', 'invalidating',\n",
        "                       'invalidation', 'invalidity', 'investigate', 'investigated', 'investigates', 'investigating',\n",
        "                       'investigation', 'investigations', 'involuntarily', 'involuntary', 'irreconcilable',\n",
        "                       'irreconcilably', 'irrecoverable', 'irrecoverably', 'irregular', 'irregularities',\n",
        "                       'irregularity', 'irregularly', 'irreparable', 'irreparably', 'irreversible', 'jeopardize',\n",
        "                       'jeopardized', 'justifiable', 'kickback', 'kickbacks', 'knowingly', 'lack', 'lacked', 'lacking',\n",
        "                       'lackluster', 'lacks', 'lag', 'lagged', 'lagging', 'lags', 'lapse', 'lapsed', 'lapses',\n",
        "                       'lapsing', 'late', 'laundering', 'layoff', 'layoffs', 'lie', 'limitation', 'limitations',\n",
        "                       'lingering', 'liquidate', 'liquidated', 'liquidates', 'liquidating', 'liquidation',\n",
        "                       'liquidations', 'liquidator', 'liquidators', 'litigant', 'litigants', 'litigate', 'litigated',\n",
        "                       'litigates', 'litigating', 'litigation', 'litigations', 'lockout', 'lockouts', 'lose', 'loses',\n",
        "                       'losing', 'loss', 'losses', 'lost', 'lying', 'malfeasance', 'malfunction', 'malfunctioned',\n",
        "                       'malfunctioning', 'malfunctions', 'malice', 'malicious', 'maliciously', 'malpractice',\n",
        "                       'manipulate', 'manipulated', 'manipulates', 'manipulating', 'manipulation', 'manipulations',\n",
        "                       'manipulative', 'markdown', 'markdowns', 'misapplication', 'misapplications', 'misapplied',\n",
        "                       'misapplies', 'misapply', 'misapplying', 'misappropriate', 'misappropriated', 'misappropriates',\n",
        "                       'misappropriating', 'misappropriation', 'misappropriations', 'misbranded', 'miscalculate',\n",
        "                       'miscalculated', 'miscalculates', 'miscalculating', 'miscalculation', 'miscalculations',\n",
        "                       'mischaracterization', 'mischief', 'misclassification', 'misclassifications', 'misclassified',\n",
        "                       'misclassify', 'miscommunication', 'misconduct', 'misdated', 'misdemeanor', 'misdemeanors',\n",
        "                       'misdirected', 'mishandle', 'mishandled', 'mishandles', 'mishandling', 'misinform',\n",
        "                       'misinformation', 'misinformed', 'misinforming', 'misinforms', 'misinterpret',\n",
        "                       'misinterpretation', 'misinterpretations', 'misinterpreted', 'misinterpreting', 'misinterprets',\n",
        "                       'misjudge', 'misjudged', 'misjudges', 'misjudging', 'misjudgment', 'misjudgments', 'mislabel',\n",
        "                       'mislabeled', 'mislabeling', 'mislabelled', 'mislabels', 'mislead', 'misleading', 'misleadingly',\n",
        "                       'misleads', 'misled', 'mismanage', 'mismanaged', 'mismanagement', 'mismanages', 'mismanaging',\n",
        "                       'mismatch', 'mismatched', 'mismatches', 'mismatching', 'misplaced', 'misprice', 'mispricing',\n",
        "                       'mispricings', 'misrepresent', 'misrepresentation', 'misrepresentations', 'misrepresented',\n",
        "                       'misrepresenting', 'misrepresents', 'miss', 'missed', 'misses', 'misstate', 'misstated',\n",
        "                       'misstatement', 'misstatements', 'misstates', 'misstating', 'misstep', 'missteps', 'mistake',\n",
        "                       'mistaken', 'mistakenly', 'mistakes', 'mistaking', 'mistrial', 'mistrials', 'misunderstand',\n",
        "                       'misunderstanding', 'misunderstandings', 'misunderstood', 'misuse', 'misused', 'misuses',\n",
        "                       'misusing', 'monopolistic', 'monopolists', 'monopolization', 'monopolize', 'monopolized',\n",
        "                       'monopolizes', 'monopolizing', 'monopoly', 'moratoria', 'moratorium', 'moratoriums',\n",
        "                       'mothballed', 'mothballing', 'negative', 'negatively', 'negatives', 'neglect', 'neglected',\n",
        "                       'neglectful', 'neglecting', 'neglects', 'negligence', 'negligences', 'negligent', 'negligently',\n",
        "                       'nonattainment', 'noncompetitive', 'noncompliance', 'noncompliances', 'noncompliant',\n",
        "                       'noncomplying', 'nonconforming', 'nonconformities', 'nonconformity', 'nondisclosure',\n",
        "                       'nonfunctional', 'nonpayment', 'nonpayments', 'nonperformance', 'nonperformances',\n",
        "                       'nonperforming', 'nonproducing', 'nonproductive', 'nonrecoverable', 'nonrenewal', 'nuisance',\n",
        "                       'nuisances', 'nullification', 'nullifications', 'nullified', 'nullifies', 'nullify',\n",
        "                       'nullifying', 'objected', 'objecting', 'objection', 'objectionable', 'objectionably',\n",
        "                       'objections', 'obscene', 'obscenity', 'obsolescence', 'obsolete', 'obstacle', 'obstacles',\n",
        "                       'obstruct', 'obstructed', 'obstructing', 'obstruction', 'obstructions', 'offence', 'offences',\n",
        "                       'offend', 'offended', 'offender', 'offenders', 'offending', 'offends', 'omission', 'omissions',\n",
        "                       'omit', 'omits', 'omitted', 'omitting', 'onerous', 'opportunistic', 'opportunistically',\n",
        "                       'oppose', 'opposed', 'opposes', 'opposing', 'opposition', 'oppositions', 'outage', 'outages',\n",
        "                       'outdated', 'outmoded', 'overage', 'overages', 'overbuild', 'overbuilding', 'overbuilds',\n",
        "                       'overbuilt', 'overburden', 'overburdened', 'overburdening', 'overcapacities', 'overcapacity',\n",
        "                       'overcharge', 'overcharged', 'overcharges', 'overcharging', 'overcome', 'overcomes',\n",
        "                       'overcoming', 'overdue', 'overestimate', 'overestimated', 'overestimates', 'overestimating',\n",
        "                       'overestimation', 'overestimations', 'overload', 'overloaded', 'overloading', 'overloads',\n",
        "                       'overlook', 'overlooked', 'overlooking', 'overlooks', 'overpaid', 'overpayment', 'overpayments',\n",
        "                       'overproduced', 'overproduces', 'overproducing', 'overproduction', 'overrun', 'overrunning',\n",
        "                       'overruns', 'overshadow', 'overshadowed', 'overshadowing', 'overshadows', 'overstate',\n",
        "                       'overstated', 'overstatement', 'overstatements', 'overstates', 'overstating', 'oversupplied',\n",
        "                       'oversupplies', 'oversupply', 'oversupplying', 'overtly', 'overturn', 'overturned',\n",
        "                       'overturning', 'overturns', 'overvalue', 'overvalued', 'overvaluing', 'panic', 'panics',\n",
        "                       'penalize', 'penalized', 'penalizes', 'penalizing', 'penalties', 'penalty', 'peril', 'perils',\n",
        "                       'perjury', 'perpetrate', 'perpetrated', 'perpetrates', 'perpetrating', 'perpetration', 'persist',\n",
        "                       'persisted', 'persistence', 'persistent', 'persistently', 'persisting', 'persists', 'pervasive',\n",
        "                       'pervasively', 'pervasiveness', 'petty', 'picket', 'picketed', 'picketing', 'plaintiff',\n",
        "                       'plaintiffs', 'plea', 'plead', 'pleaded', 'pleading', 'pleadings', 'pleads', 'pleas', 'pled',\n",
        "                       'poor', 'poorly', 'poses', 'posing', 'postpone', 'postponed', 'postponement', 'postponements',\n",
        "                       'postpones', 'postponing', 'precipitated', 'precipitous', 'precipitously', 'preclude',\n",
        "                       'precluded', 'precludes', 'precluding', 'predatory', 'prejudice', 'prejudiced', 'prejudices',\n",
        "                       'prejudicial', 'prejudicing', 'premature', 'prematurely', 'pressing', 'pretrial', 'preventing',\n",
        "                       'prevention', 'prevents', 'problem', 'problematic', 'problematical', 'problems', 'prolong',\n",
        "                       'prolongation', 'prolongations', 'prolonged', 'prolonging', 'prolongs', 'prone', 'prosecute',\n",
        "                       'prosecuted', 'prosecutes', 'prosecuting', 'prosecution', 'prosecutions', 'protest', 'protested',\n",
        "                       'protester', 'protesters', 'protesting', 'protestor', 'protestors', 'protests', 'protracted',\n",
        "                       'protraction', 'provoke', 'provoked', 'provokes', 'provoking', 'punished', 'punishes',\n",
        "                       'punishing', 'punishment', 'punishments', 'punitive', 'purport', 'purported', 'purportedly',\n",
        "                       'purporting', 'purports', 'question', 'questionable', 'questionably', 'questioned',\n",
        "                       'questioning', 'questions', 'quit', 'quitting', 'racketeer', 'racketeering', 'rationalization',\n",
        "                       'rationalizations', 'rationalize', 'rationalized', 'rationalizes', 'rationalizing',\n",
        "                       'reassessment', 'reassessments', 'reassign', 'reassigned', 'reassigning', 'reassignment',\n",
        "                       'reassignments', 'reassigns', 'recall', 'recalled', 'recalling', 'recalls', 'recession',\n",
        "                       'recessionary', 'recessions', 'reckless', 'recklessly', 'recklessness', 'redact', 'redacted',\n",
        "                       'redacting', 'redaction', 'redactions', 'redefault', 'redefaulted', 'redefaults', 'redress',\n",
        "                       'redressed', 'redresses', 'redressing', 'refusal', 'refusals', 'refuse', 'refused', 'refuses',\n",
        "                       'refusing', 'reject', 'rejected', 'rejecting', 'rejection', 'rejections', 'rejects',\n",
        "                       'relinquish', 'relinquished', 'relinquishes', 'relinquishing', 'relinquishment',\n",
        "                       'relinquishments', 'reluctance', 'reluctant', 'renegotiate', 'renegotiated', 'renegotiates',\n",
        "                       'renegotiating', 'renegotiation', 'renegotiations', 'renounce', 'renounced', 'renouncement',\n",
        "                       'renouncements', 'renounces', 'renouncing', 'reparation', 'reparations', 'repossessed',\n",
        "                       'repossesses', 'repossessing', 'repossession', 'repossessions', 'repudiate', 'repudiated',\n",
        "                       'repudiates', 'repudiating', 'repudiation', 'repudiations', 'resign', 'resignation',\n",
        "                       'resignations', 'resigned', 'resigning', 'resigns', 'restate', 'restated', 'restatement',\n",
        "                       'restatements', 'restates', 'restating', 'restructure', 'restructured', 'restructures',\n",
        "                       'restructuring', 'restructurings', 'retaliate', 'retaliated', 'retaliates', 'retaliating',\n",
        "                       'retaliation', 'retaliations', 'retaliatory', 'retribution', 'retributions', 'revocation',\n",
        "                       'revocations', 'revoke', 'revoked', 'revokes', 'revoking', 'ridicule', 'ridiculed', 'ridicules',\n",
        "                       'ridiculing', 'riskier', 'riskiest', 'risky', 'sabotage', 'sacrifice', 'sacrificed',\n",
        "                       'sacrifices', 'sacrificial', 'sacrificing', 'scandalous', 'scandals', 'scrutinize',\n",
        "                       'scrutinized', 'scrutinizes', 'scrutinizing', 'scrutiny', 'secrecy', 'seize', 'seized', 'seizes',\n",
        "                       'seizing', 'sentenced', 'sentencing', 'serious', 'seriously', 'seriousness', 'setback',\n",
        "                       'setbacks', 'sever', 'severe', 'severed', 'severely', 'severities', 'severity', 'sharply',\n",
        "                       'shocked', 'shortage', 'shortages', 'shortfall', 'shortfalls', 'shrinkage', 'shrinkages', 'shut',\n",
        "                       'shutdown', 'shutdowns', 'shuts', 'shutting', 'slander', 'slandered', 'slanderous', 'slanders',\n",
        "                       'slippage', 'slippages', 'slow', 'slowdown', 'slowdowns', 'slowed', 'slower', 'slowest',\n",
        "                       'slowing', 'slowly', 'slowness', 'sluggish', 'sluggishly', 'sluggishness', 'solvencies',\n",
        "                       'solvency', 'spam', 'spammers', 'spamming', 'staggering', 'stagnant', 'stagnate', 'stagnated',\n",
        "                       'stagnates', 'stagnating', 'stagnation', 'standstill', 'standstills', 'stolen', 'stoppage',\n",
        "                       'stoppages', 'stopped', 'stopping', 'stops', 'strain', 'strained', 'straining', 'strains',\n",
        "                       'stress', 'stressed', 'stresses', 'stressful', 'stressing', 'stringent', 'subjected',\n",
        "                       'subjecting', 'subjection', 'subpoena', 'subpoenaed', 'subpoenas', 'substandard', 'sue', 'sued',\n",
        "                       'sues', 'suffer', 'suffered', 'suffering', 'suffers', 'suing', 'summoned', 'summoning',\n",
        "                       'summons', 'summonses', 'susceptibility', 'susceptible', 'suspect', 'suspected', 'suspects',\n",
        "                       'suspend', 'suspended', 'suspending', 'suspends', 'suspension', 'suspensions', 'suspicion',\n",
        "                       'suspicions', 'suspicious', 'suspiciously', 'taint', 'tainted', 'tainting', 'taints', 'tampered',\n",
        "                       'tense', 'terminate', 'terminated', 'terminates', 'terminating', 'termination', 'terminations',\n",
        "                       'testify', 'testifying', 'threat', 'threaten', 'threatened', 'threatening', 'threatens',\n",
        "                       'threats', 'tightening', 'tolerate', 'tolerated', 'tolerates', 'tolerating', 'toleration',\n",
        "                       'tortuous', 'tortuously', 'tragedies', 'tragedy', 'tragic', 'tragically', 'traumatic', 'trouble',\n",
        "                       'troubled', 'troubles', 'turbulence', 'turmoil', 'unable', 'unacceptable', 'unacceptably',\n",
        "                       'unaccounted', 'unannounced', 'unanticipated', 'unapproved', 'unattractive', 'unauthorized',\n",
        "                       'unavailability', 'unavailable', 'unavoidable', 'unavoidably', 'unaware', 'uncollectable',\n",
        "                       'uncollected', 'uncollectibility', 'uncollectible', 'uncollectibles', 'uncompetitive',\n",
        "                       'uncompleted', 'unconscionable', 'unconscionably', 'uncontrollable', 'uncontrollably',\n",
        "                       'uncontrolled', 'uncorrected', 'uncover', 'uncovered', 'uncovering', 'uncovers', 'undeliverable',\n",
        "                       'undelivered', 'undercapitalized', 'undercut', 'undercuts', 'undercutting', 'underestimate',\n",
        "                       'underestimated', 'underestimates', 'underestimating', 'underestimation', 'underfunded',\n",
        "                       'underinsured', 'undermine', 'undermined', 'undermines', 'undermining', 'underpaid',\n",
        "                       'underpayment', 'underpayments', 'underpays', 'underperform', 'underperformance',\n",
        "                       'underperformed', 'underperforming', 'underperforms', 'underproduced', 'underproduction',\n",
        "                       'underreporting', 'understate', 'understated', 'understatement', 'understatements',\n",
        "                       'understates', 'understating', 'underutilization', 'underutilized', 'undesirable', 'undesired',\n",
        "                       'undetected', 'undetermined', 'undisclosed', 'undocumented', 'undue', 'unduly', 'uneconomic',\n",
        "                       'uneconomical', 'uneconomically', 'unemployed', 'unemployment', 'unethical', 'unethically',\n",
        "                       'unexcused', 'unexpected', 'unexpectedly', 'unfair', 'unfairly', 'unfavorability', 'unfavorable',\n",
        "                       'unfavorably', 'unfavourable', 'unfeasible', 'unfit', 'unfitness', 'unforeseeable', 'unforeseen',\n",
        "                       'unforseen', 'unfortunate', 'unfortunately', 'unfounded', 'unfriendly', 'unfulfilled',\n",
        "                       'unfunded', 'uninsured', 'unintended', 'unintentional', 'unintentionally', 'unjust',\n",
        "                       'unjustifiable', 'unjustifiably', 'unjustified', 'unjustly', 'unknowing', 'unknowingly',\n",
        "                       'unlawful', 'unlawfully', 'unlicensed', 'unliquidated', 'unmarketable', 'unmerchantable',\n",
        "                       'unmeritorious', 'unnecessarily', 'unnecessary', 'unneeded', 'unobtainable', 'unoccupied',\n",
        "                       'unpaid', 'unperformed', 'unplanned', 'unpopular', 'unpredictability', 'unpredictable',\n",
        "                       'unpredictably', 'unpredicted', 'unproductive', 'unprofitability', 'unprofitable', 'unqualified',\n",
        "                       'unrealistic', 'unreasonable', 'unreasonableness', 'unreasonably', 'unreceptive',\n",
        "                       'unrecoverable', 'unrecovered', 'unreimbursed', 'unreliable', 'unremedied', 'unreported',\n",
        "                       'unresolved', 'unrest', 'unsafe', 'unsalable', 'unsaleable', 'unsatisfactory', 'unsatisfied',\n",
        "                       'unsavory', 'unscheduled', 'unsellable', 'unsold', 'unsound', 'unstabilized', 'unstable',\n",
        "                       'unsubstantiated', 'unsuccessful', 'unsuccessfully', 'unsuitability', 'unsuitable', 'unsuitably',\n",
        "                       'unsuited', 'unsure', 'unsuspected', 'unsuspecting', 'unsustainable', 'untenable', 'untimely',\n",
        "                       'untrusted', 'untruth', 'untruthful', 'untruthfully', 'untruthfulness', 'untruths', 'unusable',\n",
        "                       'unwanted', 'unwarranted', 'unwelcome', 'unwilling', 'unwillingness', 'upset', 'urgency',\n",
        "                       'urgent', 'usurious', 'usurp', 'usurped', 'usurping', 'usurps', 'usury', 'vandalism', 'verdict',\n",
        "                       'verdicts', 'vetoed', 'victims', 'violate', 'violated', 'violates', 'violating', 'violation',\n",
        "                       'violations', 'violative', 'violator', 'violators', 'violence', 'violent', 'violently',\n",
        "                       'vitiate', 'vitiated', 'vitiates', 'vitiating', 'vitiation', 'voided', 'voiding', 'volatile',\n",
        "                       'volatility', 'vulnerabilities', 'vulnerability', 'vulnerable', 'vulnerably', 'warn', 'warned',\n",
        "                       'warning', 'warnings', 'warns', 'wasted', 'wasteful', 'wasting', 'weak', 'weaken', 'weakened',\n",
        "                       'weakening', 'weakens', 'weaker', 'weakest', 'weakly', 'weakness', 'weaknesses', 'willfully',\n",
        "                       'worries', 'worry', 'worrying', 'worse', 'worsen', 'worsened', 'worsening', 'worsens', 'worst',\n",
        "                       'worthless', 'writedown', 'writedowns', 'writeoff', 'writeoffs', 'wrong', 'wrongdoing',\n",
        "                       'wrongdoings', 'wrongful', 'wrongfully', 'wrongly'],\n",
        "          'Positive': ['able', 'abundance', 'abundant', 'acclaimed', 'accomplish', 'accomplished', 'accomplishes',\n",
        "                       'accomplishing', 'accomplishment', 'accomplishments', 'achieve', 'achieved', 'achievement',\n",
        "                       'achievements', 'achieves', 'achieving', 'adequately', 'advancement', 'advancements', 'advances',\n",
        "                       'advancing', 'advantage', 'advantaged', 'advantageous', 'advantageously', 'advantages',\n",
        "                       'alliance', 'alliances', 'assure', 'assured', 'assures', 'assuring', 'attain', 'attained',\n",
        "                       'attaining', 'attainment', 'attainments', 'attains', 'attractive', 'attractiveness', 'beautiful',\n",
        "                       'beautifully', 'beneficial', 'beneficially', 'benefit', 'benefited', 'benefiting', 'benefitted',\n",
        "                       'benefitting', 'best', 'better', 'bolstered', 'bolstering', 'bolsters', 'boom', 'booming',\n",
        "                       'boost', 'boosted', 'breakthrough', 'breakthroughs', 'brilliant', 'charitable', 'collaborate',\n",
        "                       'collaborated', 'collaborates', 'collaborating', 'collaboration', 'collaborations',\n",
        "                       'collaborative', 'collaborator', 'collaborators', 'compliment', 'complimentary', 'complimented',\n",
        "                       'complimenting', 'compliments', 'conclusive', 'conclusively', 'conducive', 'confident',\n",
        "                       'constructive', 'constructively', 'courteous', 'creative', 'creatively', 'creativeness',\n",
        "                       'creativity', 'delight', 'delighted', 'delightful', 'delightfully', 'delighting', 'delights',\n",
        "                       'dependability', 'dependable', 'desirable', 'desired', 'despite', 'destined', 'diligent',\n",
        "                       'diligently', 'distinction', 'distinctions', 'distinctive', 'distinctively', 'distinctiveness',\n",
        "                       'dream', 'easier', 'easily', 'easy', 'effective', 'efficiencies', 'efficiency', 'efficient',\n",
        "                       'efficiently', 'empower', 'empowered', 'empowering', 'empowers', 'enable', 'enabled', 'enables',\n",
        "                       'enabling', 'encouraged', 'encouragement', 'encourages', 'encouraging', 'enhance', 'enhanced',\n",
        "                       'enhancement', 'enhancements', 'enhances', 'enhancing', 'enjoy', 'enjoyable', 'enjoyably',\n",
        "                       'enjoyed', 'enjoying', 'enjoyment', 'enjoys', 'enthusiasm', 'enthusiastic', 'enthusiastically',\n",
        "                       'excellence', 'excellent', 'excelling', 'excels', 'exceptional', 'exceptionally', 'excited',\n",
        "                       'excitement', 'exciting', 'exclusive', 'exclusively', 'exclusiveness', 'exclusives',\n",
        "                       'exclusivity', 'exemplary', 'fantastic', 'favorable', 'favorably', 'favored', 'favoring',\n",
        "                       'favorite', 'favorites', 'friendly', 'gain', 'gained', 'gaining', 'gains', 'good', 'great',\n",
        "                       'greater', 'greatest', 'greatly', 'greatness', 'happiest', 'happily', 'happiness', 'happy',\n",
        "                       'highest', 'honor', 'honorable', 'honored', 'honoring', 'honors', 'ideal', 'impress',\n",
        "                       'impressed', 'impresses', 'impressing', 'impressive', 'impressively', 'improve', 'improved',\n",
        "                       'improvement', 'improvements', 'improves', 'improving', 'incredible', 'incredibly',\n",
        "                       'influential', 'informative', 'ingenuity', 'innovate', 'innovated', 'innovates', 'innovating',\n",
        "                       'innovation', 'innovations', 'innovative', 'innovativeness', 'innovator', 'innovators',\n",
        "                       'insightful', 'inspiration', 'inspirational', 'integrity', 'invent', 'invented', 'inventing',\n",
        "                       'invention', 'inventions', 'inventive', 'inventiveness', 'inventor', 'inventors', 'leadership',\n",
        "                       'leading', 'loyal', 'lucrative', 'meritorious', 'opportunities', 'opportunity', 'optimistic',\n",
        "                       'outperform', 'outperformed', 'outperforming', 'outperforms', 'perfect', 'perfected',\n",
        "                       'perfectly', 'perfects', 'pleasant', 'pleasantly', 'pleased', 'pleasure', 'plentiful', 'popular',\n",
        "                       'popularity', 'positive', 'positively', 'preeminence', 'preeminent', 'premier', 'premiere',\n",
        "                       'prestige', 'prestigious', 'proactive', 'proactively', 'proficiency', 'proficient',\n",
        "                       'proficiently', 'profitability', 'profitable', 'profitably', 'progress', 'progressed',\n",
        "                       'progresses', 'progressing', 'prospered', 'prospering', 'prosperity', 'prosperous', 'prospers',\n",
        "                       'rebound', 'rebounded', 'rebounding', 'receptive', 'regain', 'regained', 'regaining', 'resolve',\n",
        "                       'revolutionize', 'revolutionized', 'revolutionizes', 'revolutionizing', 'reward', 'rewarded',\n",
        "                       'rewarding', 'rewards', 'satisfaction', 'satisfactorily', 'satisfactory', 'satisfied',\n",
        "                       'satisfies', 'satisfy', 'satisfying', 'smooth', 'smoothing', 'smoothly', 'smooths', 'solves',\n",
        "                       'solving', 'spectacular', 'spectacularly', 'stability', 'stabilization', 'stabilizations',\n",
        "                       'stabilize', 'stabilized', 'stabilizes', 'stabilizing', 'stable', 'strength', 'strengthen',\n",
        "                       'strengthened', 'strengthening', 'strengthens', 'strengths', 'strong', 'stronger', 'strongest',\n",
        "                       'succeed', 'succeeded', 'succeeding', 'succeeds', 'success', 'successes', 'successful',\n",
        "                       'successfully', 'superior', 'surpass', 'surpassed', 'surpasses', 'surpassing', 'transparency',\n",
        "                       'tremendous', 'tremendously', 'unmatched', 'unparalleled', 'unsurpassed', 'upturn', 'upturns',\n",
        "                       'valuable', 'versatile', 'versatility', 'vibrancy', 'vibrant', 'win', 'winner', 'winners',\n",
        "                       'winning', 'worthy']}\n",
        " \n",
        " \n",
        "negate = [\"aint\", \"arent\", \"cannot\", \"cant\", \"couldnt\", \"darent\", \"didnt\", \"doesnt\", \"ain't\", \"aren't\", \"can't\",\n",
        "          \"couldn't\", \"daren't\", \"didn't\", \"doesn't\", \"dont\", \"hadnt\", \"hasnt\", \"havent\", \"isnt\", \"mightnt\", \"mustnt\",\n",
        "          \"neither\", \"don't\", \"hadn't\", \"hasn't\", \"haven't\", \"isn't\", \"mightn't\", \"mustn't\", \"neednt\", \"needn't\",\n",
        "          \"never\", \"none\", \"nope\", \"nor\", \"not\", \"nothing\", \"nowhere\", \"oughtnt\", \"shant\", \"shouldnt\", \"wasnt\",\n",
        "          \"werent\", \"oughtn't\", \"shan't\", \"shouldn't\", \"wasn't\", \"weren't\", \"without\", \"wont\", \"wouldnt\", \"won't\",\n",
        "          \"wouldn't\", \"rarely\", \"seldom\", \"despite\", \"no\", \"nobody\"]\n",
        " \n",
        " \n",
        "def negated(word):\n",
        "    if word.lower() in negate:\n",
        "        return True\n",
        "    else:\n",
        "        return False\n",
        " \n",
        " \n",
        "def tone_count_with_negation_check(dict, article):\n",
        " \n",
        "    pos_count = 0\n",
        "    neg_count = 0\n",
        " \n",
        "    pos_words = []\n",
        "    neg_words = []\n",
        " \n",
        "    input_words = re.findall(r'\\b([a-zA-Z]+n\\'t|[a-zA-Z]+\\'s|[a-zA-Z]+)\\b', article.lower())\n",
        " \n",
        "    word_count = len(input_words)\n",
        " \n",
        "    for i in range(0, word_count):\n",
        "        if input_words[i] in dict['Negative']:\n",
        "            neg_count += 1\n",
        "  #          neg_words.append(input_words[i])\n",
        "        if input_words[i] in dict['Positive']:\n",
        "            if i >= 3:\n",
        "                if negated(input_words[i - 1]) or negated(input_words[i - 2]) or negated(input_words[i - 3]):\n",
        "                    neg_count += 1\n",
        "    #                neg_words.append(input_words[i] + ' (with negation)')\n",
        "                else:\n",
        "                    pos_count += 1\n",
        "    #                pos_words.append(input_words[i])\n",
        "            elif i == 2:\n",
        "                if negated(input_words[i - 1]) or negated(input_words[i - 2]):\n",
        "                    neg_count += 1\n",
        "   #                 neg_words.append(input_words[i] + ' (with negation)')\n",
        "                else:\n",
        "                    pos_count += 1\n",
        "    #                pos_words.append(input_words[i])\n",
        "            elif i == 1:\n",
        "                if negated(input_words[i - 1]):\n",
        "                    neg_count += 1\n",
        "     #               neg_words.append(input_words[i] + ' (with negation)')\n",
        "                else:\n",
        "                    pos_count += 1\n",
        "  #                  pos_words.append(input_words[i])\n",
        "            elif i == 0:\n",
        "                pos_count += 1\n",
        "   #             pos_words.append(input_words[i])\n",
        " \n",
        " #   print('The results with negation check:', end='\\n\\n')\n",
        " #   print('The # of positive words:', pos_count)\n",
        " #   print('The # of negative words:', neg_count)\n",
        "  #  print('The list of found positive words:', pos_words)\n",
        "  #  print('The list of found negative words:', neg_words)\n",
        "    if pos_count>neg_count:\n",
        "      results=1\n",
        "    if pos_count==neg_count:\n",
        "      results=0\n",
        "    if pos_count<neg_count:\n",
        "      results=-1\n",
        "    return results"
      ]
    },
    {
      "cell_type": "markdown",
      "metadata": {
        "id": "lH2tuNhJL47a"
      },
      "source": [
        "#Crawl Tweets"
      ]
    },
    {
      "cell_type": "code",
      "execution_count": null,
      "metadata": {
        "colab": {
          "base_uri": "https://localhost:8080/"
        },
        "id": "1nvqU_OoL6S9",
        "outputId": "5a34c482-5336-4067-8888-9540be8f7c9d"
      },
      "outputs": [
        {
          "output_type": "stream",
          "name": "stdout",
          "text": [
            "Looking in indexes: https://pypi.org/simple, https://us-python.pkg.dev/colab-wheels/public/simple/\n",
            "Collecting snscrape\n",
            "  Downloading snscrape-0.5.0.20230113-py3-none-any.whl (69 kB)\n",
            "\u001b[2K     \u001b[90m━━━━━━━━━━━━━━━━━━━━━━━━━━━━━━━━━━━━━━━━\u001b[0m \u001b[32m69.2/69.2 KB\u001b[0m \u001b[31m2.5 MB/s\u001b[0m eta \u001b[36m0:00:00\u001b[0m\n",
            "\u001b[?25hRequirement already satisfied: pytz in /usr/local/lib/python3.8/dist-packages (from snscrape) (2022.7)\n",
            "Requirement already satisfied: requests[socks] in /usr/local/lib/python3.8/dist-packages (from snscrape) (2.25.1)\n",
            "Requirement already satisfied: filelock in /usr/local/lib/python3.8/dist-packages (from snscrape) (3.9.0)\n",
            "Requirement already satisfied: lxml in /usr/local/lib/python3.8/dist-packages (from snscrape) (4.9.2)\n",
            "Requirement already satisfied: beautifulsoup4 in /usr/local/lib/python3.8/dist-packages (from snscrape) (4.6.3)\n",
            "Requirement already satisfied: idna<3,>=2.5 in /usr/local/lib/python3.8/dist-packages (from requests[socks]->snscrape) (2.10)\n",
            "Requirement already satisfied: chardet<5,>=3.0.2 in /usr/local/lib/python3.8/dist-packages (from requests[socks]->snscrape) (4.0.0)\n",
            "Requirement already satisfied: urllib3<1.27,>=1.21.1 in /usr/local/lib/python3.8/dist-packages (from requests[socks]->snscrape) (1.24.3)\n",
            "Requirement already satisfied: certifi>=2017.4.17 in /usr/local/lib/python3.8/dist-packages (from requests[socks]->snscrape) (2022.12.7)\n",
            "Requirement already satisfied: PySocks!=1.5.7,>=1.5.6 in /usr/local/lib/python3.8/dist-packages (from requests[socks]->snscrape) (1.7.1)\n",
            "Installing collected packages: snscrape\n",
            "Successfully installed snscrape-0.5.0.20230113\n"
          ]
        }
      ],
      "source": [
        "!pip3 install snscrape"
      ]
    },
    {
      "cell_type": "code",
      "execution_count": null,
      "metadata": {
        "id": "avzRQOuwfDiO"
      },
      "outputs": [],
      "source": [
        "import snscrape.modules.twitter as sntwitter\n",
        "import pandas as pd"
      ]
    },
    {
      "cell_type": "code",
      "source": [
        "# Creating list to append tweet data to\n",
        "#tweets_list = []\n",
        "\n",
        "# Using TwitterSearchScraper to scrape data and append tweets to list\n",
        "#for i,tweet in enumerate(sntwitter.TwitterSearchScraper('#CryptoPunk since:2017-06-23 until:2022-07-27 min_faves:5 exclude:retweets','corona lang:en').get_items()):\n",
        "#  if i>50:\n",
        "#    break\n",
        "#  tweets_list.append([tweet.date,  tweet.content]) #tweet.id"
      ],
      "metadata": {
        "id": "01klNEvlVfRv"
      },
      "execution_count": null,
      "outputs": []
    },
    {
      "cell_type": "markdown",
      "source": [
        "## 2017-2021"
      ],
      "metadata": {
        "id": "7qCRv1lx0Ceu"
      }
    },
    {
      "cell_type": "code",
      "source": [
        "# Creating list to append tweet data to\n",
        "tweets_list = []\n",
        "\n",
        "# Using TwitterSearchScraper to scrape data and append tweets to list\n",
        "for i,tweet in enumerate(sntwitter.TwitterSearchScraper('CryptoPunk since:2017-06-23 until:2018-06-23 min_faves:5 exclude:retweets','corona lang:en').get_items()):\n",
        "  tweets_list.append([tweet.date,  tweet.content]) #tweet.id"
      ],
      "metadata": {
        "colab": {
          "base_uri": "https://localhost:8080/",
          "height": 237
        },
        "id": "7aE5wmt40CLG",
        "outputId": "ab3de328-1154-4ac3-b95c-109bbae2f0a7"
      },
      "execution_count": null,
      "outputs": [
        {
          "output_type": "error",
          "ename": "TypeError",
          "evalue": "ignored",
          "traceback": [
            "\u001b[0;31m---------------------------------------------------------------------------\u001b[0m",
            "\u001b[0;31mTypeError\u001b[0m                                 Traceback (most recent call last)",
            "\u001b[0;32m<ipython-input-6-2c602dd0fae3>\u001b[0m in \u001b[0;36m<module>\u001b[0;34m\u001b[0m\n\u001b[1;32m      3\u001b[0m \u001b[0;34m\u001b[0m\u001b[0m\n\u001b[1;32m      4\u001b[0m \u001b[0;31m# Using TwitterSearchScraper to scrape data and append tweets to list\u001b[0m\u001b[0;34m\u001b[0m\u001b[0;34m\u001b[0m\u001b[0;34m\u001b[0m\u001b[0m\n\u001b[0;32m----> 5\u001b[0;31m \u001b[0;32mfor\u001b[0m \u001b[0mi\u001b[0m\u001b[0;34m,\u001b[0m\u001b[0mtweet\u001b[0m \u001b[0;32min\u001b[0m \u001b[0menumerate\u001b[0m\u001b[0;34m(\u001b[0m\u001b[0msntwitter\u001b[0m\u001b[0;34m.\u001b[0m\u001b[0mTwitterSearchScraper\u001b[0m\u001b[0;34m(\u001b[0m\u001b[0;34m'CryptoPunk since:2017-06-23 until:2018-06-23 min_faves:5 exclude:retweets'\u001b[0m\u001b[0;34m,\u001b[0m\u001b[0;34m'corona lang:en'\u001b[0m\u001b[0;34m)\u001b[0m\u001b[0;34m.\u001b[0m\u001b[0mget_items\u001b[0m\u001b[0;34m(\u001b[0m\u001b[0;34m)\u001b[0m\u001b[0;34m)\u001b[0m\u001b[0;34m:\u001b[0m\u001b[0;34m\u001b[0m\u001b[0;34m\u001b[0m\u001b[0m\n\u001b[0m\u001b[1;32m      6\u001b[0m   \u001b[0mtweets_list\u001b[0m\u001b[0;34m.\u001b[0m\u001b[0mappend\u001b[0m\u001b[0;34m(\u001b[0m\u001b[0;34m[\u001b[0m\u001b[0mtweet\u001b[0m\u001b[0;34m.\u001b[0m\u001b[0mdate\u001b[0m\u001b[0;34m,\u001b[0m  \u001b[0mtweet\u001b[0m\u001b[0;34m.\u001b[0m\u001b[0mcontent\u001b[0m\u001b[0;34m]\u001b[0m\u001b[0;34m)\u001b[0m \u001b[0;31m#tweet.id\u001b[0m\u001b[0;34m\u001b[0m\u001b[0;34m\u001b[0m\u001b[0m\n",
            "\u001b[0;31mTypeError\u001b[0m: __init__() takes 2 positional arguments but 3 were given"
          ]
        }
      ]
    },
    {
      "cell_type": "code",
      "source": [
        "tweets_list = pd.DataFrame(tweets_list, columns=['Date', 'Tweets'])"
      ],
      "metadata": {
        "id": "QGx3vqWH0GxJ"
      },
      "execution_count": null,
      "outputs": []
    },
    {
      "cell_type": "code",
      "source": [
        "tweets_list.head()"
      ],
      "metadata": {
        "id": "x7hZq8vq0Hkj"
      },
      "execution_count": null,
      "outputs": []
    },
    {
      "cell_type": "code",
      "source": [
        "tweets_list.to_csv(\"tweets_CryptoPunk_2017-2018.csv\")"
      ],
      "metadata": {
        "id": "vpI78h9E0Ixo"
      },
      "execution_count": null,
      "outputs": []
    },
    {
      "cell_type": "code",
      "source": [
        "df = pd.read_csv(\"https://raw.githubusercontent.com/SunYutongAmber/Cryptopunks_tweets_data_analysis/main/data/cleaned_cryptopunk_tweets_data.csv\")"
      ],
      "metadata": {
        "id": "RtgCcb5q0JzM"
      },
      "execution_count": null,
      "outputs": []
    },
    {
      "cell_type": "markdown",
      "source": [
        "## 2017-2018"
      ],
      "metadata": {
        "id": "uryvgh0NgrD9"
      }
    },
    {
      "cell_type": "code",
      "execution_count": null,
      "metadata": {
        "id": "1QZi1hNGL8M7",
        "colab": {
          "base_uri": "https://localhost:8080/",
          "height": 237
        },
        "outputId": "3c2228ba-5a4f-47a3-bff6-40e5e240f459"
      },
      "outputs": [
        {
          "output_type": "error",
          "ename": "TypeError",
          "evalue": "ignored",
          "traceback": [
            "\u001b[0;31m---------------------------------------------------------------------------\u001b[0m",
            "\u001b[0;31mTypeError\u001b[0m                                 Traceback (most recent call last)",
            "\u001b[0;32m<ipython-input-7-2c602dd0fae3>\u001b[0m in \u001b[0;36m<module>\u001b[0;34m\u001b[0m\n\u001b[1;32m      3\u001b[0m \u001b[0;34m\u001b[0m\u001b[0m\n\u001b[1;32m      4\u001b[0m \u001b[0;31m# Using TwitterSearchScraper to scrape data and append tweets to list\u001b[0m\u001b[0;34m\u001b[0m\u001b[0;34m\u001b[0m\u001b[0;34m\u001b[0m\u001b[0m\n\u001b[0;32m----> 5\u001b[0;31m \u001b[0;32mfor\u001b[0m \u001b[0mi\u001b[0m\u001b[0;34m,\u001b[0m\u001b[0mtweet\u001b[0m \u001b[0;32min\u001b[0m \u001b[0menumerate\u001b[0m\u001b[0;34m(\u001b[0m\u001b[0msntwitter\u001b[0m\u001b[0;34m.\u001b[0m\u001b[0mTwitterSearchScraper\u001b[0m\u001b[0;34m(\u001b[0m\u001b[0;34m'CryptoPunk since:2017-06-23 until:2018-06-23 min_faves:5 exclude:retweets'\u001b[0m\u001b[0;34m,\u001b[0m\u001b[0;34m'corona lang:en'\u001b[0m\u001b[0;34m)\u001b[0m\u001b[0;34m.\u001b[0m\u001b[0mget_items\u001b[0m\u001b[0;34m(\u001b[0m\u001b[0;34m)\u001b[0m\u001b[0;34m)\u001b[0m\u001b[0;34m:\u001b[0m\u001b[0;34m\u001b[0m\u001b[0;34m\u001b[0m\u001b[0m\n\u001b[0m\u001b[1;32m      6\u001b[0m   \u001b[0mtweets_list\u001b[0m\u001b[0;34m.\u001b[0m\u001b[0mappend\u001b[0m\u001b[0;34m(\u001b[0m\u001b[0;34m[\u001b[0m\u001b[0mtweet\u001b[0m\u001b[0;34m.\u001b[0m\u001b[0mdate\u001b[0m\u001b[0;34m,\u001b[0m  \u001b[0mtweet\u001b[0m\u001b[0;34m.\u001b[0m\u001b[0mcontent\u001b[0m\u001b[0;34m]\u001b[0m\u001b[0;34m)\u001b[0m \u001b[0;31m#tweet.id\u001b[0m\u001b[0;34m\u001b[0m\u001b[0;34m\u001b[0m\u001b[0m\n",
            "\u001b[0;31mTypeError\u001b[0m: __init__() takes 2 positional arguments but 3 were given"
          ]
        }
      ],
      "source": [
        "# Creating list to append tweet data to\n",
        "tweets_list = []\n",
        "\n",
        "# Using TwitterSearchScraper to scrape data and append tweets to list\n",
        "for i,tweet in enumerate(sntwitter.TwitterSearchScraper('CryptoPunk since:2017-06-23 until:2018-06-23 min_faves:5 exclude:retweets','corona lang:en').get_items()):\n",
        "  tweets_list.append([tweet.date,  tweet.content]) #tweet.id"
      ]
    },
    {
      "cell_type": "code",
      "execution_count": null,
      "metadata": {
        "id": "Ib1e0n36fTBc"
      },
      "outputs": [],
      "source": [
        "tweets_list = pd.DataFrame(tweets_list, columns=['Date', 'Tweets'])"
      ]
    },
    {
      "cell_type": "code",
      "source": [
        "tweets_list.head(10)"
      ],
      "metadata": {
        "id": "Mf4fylmjWEZn"
      },
      "execution_count": null,
      "outputs": []
    },
    {
      "cell_type": "code",
      "execution_count": null,
      "metadata": {
        "id": "UOhQut5I2qDb"
      },
      "outputs": [],
      "source": [
        "tweets_list.to_csv(\"tweets_CryptoPunk_2017-2018.csv\")"
      ]
    },
    {
      "cell_type": "markdown",
      "source": [
        "## 2018-2019"
      ],
      "metadata": {
        "id": "ay1sZszcguS-"
      }
    },
    {
      "cell_type": "code",
      "source": [
        "# Creating list to append tweet data to\n",
        "tweets_list = []\n",
        "\n",
        "# Using TwitterSearchScraper to scrape data and append tweets to list\n",
        "for i,tweet in enumerate(sntwitter.TwitterSearchScraper('CryptoPunk since:2018-06-23 until:2019-06-23 min_faves:5 exclude:retweets','corona lang:en').get_items()):\n",
        "  tweets_list.append([tweet.date,  tweet.content]) #tweet.id"
      ],
      "metadata": {
        "id": "x2dJwkkOYyCm"
      },
      "execution_count": null,
      "outputs": []
    },
    {
      "cell_type": "code",
      "source": [
        "tweets_list = pd.DataFrame(tweets_list, columns=['Date', 'Tweets'])"
      ],
      "metadata": {
        "id": "yKVomC8kY0CX"
      },
      "execution_count": null,
      "outputs": []
    },
    {
      "cell_type": "code",
      "source": [
        "tweets_list.head(10)"
      ],
      "metadata": {
        "id": "zskJdANxY2Dl"
      },
      "execution_count": null,
      "outputs": []
    },
    {
      "cell_type": "code",
      "source": [
        "tweets_list.to_csv(\"tweets_CryptoPunk_2018-2019.csv\")"
      ],
      "metadata": {
        "id": "wSYRm_b9Y29Y"
      },
      "execution_count": null,
      "outputs": []
    },
    {
      "cell_type": "markdown",
      "source": [
        "## 2019-2020"
      ],
      "metadata": {
        "id": "xRvOIo3A3xXV"
      }
    },
    {
      "cell_type": "code",
      "source": [
        "# Creating list to append tweet data to\n",
        "tweets_list = []\n",
        "\n",
        "# Using TwitterSearchScraper to scrape data and append tweets to list\n",
        "for i,tweet in enumerate(sntwitter.TwitterSearchScraper('CryptoPunk since:2019-06-23 until:2020-06-23 min_faves:5 exclude:retweets','corona lang:en').get_items()):\n",
        "  tweets_list.append([tweet.date,  tweet.content]) #tweet.id"
      ],
      "metadata": {
        "id": "CGPIa4eL3xXV"
      },
      "execution_count": null,
      "outputs": []
    },
    {
      "cell_type": "code",
      "source": [
        "tweets_list = pd.DataFrame(tweets_list, columns=['Date', 'Tweets'])"
      ],
      "metadata": {
        "id": "Lat-NKDB3xXW"
      },
      "execution_count": null,
      "outputs": []
    },
    {
      "cell_type": "code",
      "source": [
        "tweets_list.head(10)"
      ],
      "metadata": {
        "id": "4Z27v2z63xXW"
      },
      "execution_count": null,
      "outputs": []
    },
    {
      "cell_type": "code",
      "source": [
        "tweets_list.to_csv(\"tweets_CryptoPunk_2019-2020.csv\")"
      ],
      "metadata": {
        "id": "3YI1yXGc3xXW"
      },
      "execution_count": null,
      "outputs": []
    },
    {
      "cell_type": "markdown",
      "source": [
        "## 2020-2021"
      ],
      "metadata": {
        "id": "733Ey0T95ETS"
      }
    },
    {
      "cell_type": "code",
      "source": [
        "# Creating list to append tweet data to\n",
        "tweets_list = []\n",
        "\n",
        "# Using TwitterSearchScraper to scrape data and append tweets to list\n",
        "for i,tweet in enumerate(sntwitter.TwitterSearchScraper('CryptoPunk since:2020-06-23 until:2021-06-23 min_faves:5 exclude:retweets','corona lang:en').get_items()):\n",
        "  tweets_list.append([tweet.date,  tweet.content]) #tweet.id"
      ],
      "metadata": {
        "id": "dA55QRO_5ETT"
      },
      "execution_count": null,
      "outputs": []
    },
    {
      "cell_type": "code",
      "source": [
        "tweets_list = pd.DataFrame(tweets_list, columns=['Date', 'Tweets'])"
      ],
      "metadata": {
        "id": "4MumNRO15ETT"
      },
      "execution_count": null,
      "outputs": []
    },
    {
      "cell_type": "code",
      "source": [
        "tweets_list.head(10)"
      ],
      "metadata": {
        "id": "XiCJ6gG05ETT"
      },
      "execution_count": null,
      "outputs": []
    },
    {
      "cell_type": "code",
      "source": [
        "tweets_list.to_csv(\"tweets_CryptoPunk_2020-2021.csv\")"
      ],
      "metadata": {
        "id": "LCjpEHis5ETT"
      },
      "execution_count": null,
      "outputs": []
    },
    {
      "cell_type": "markdown",
      "source": [
        "# Tweets Analysis"
      ],
      "metadata": {
        "id": "JaXejmszcOBp"
      }
    },
    {
      "cell_type": "markdown",
      "source": [
        "## 2017-2018"
      ],
      "metadata": {
        "id": "3mZhonZmgkDS"
      }
    },
    {
      "cell_type": "code",
      "source": [
        "df17_18 = pd.read_csv(\"tweets_CryptoPunk_2017-2018.csv\")"
      ],
      "metadata": {
        "id": "UxDRUl7AaLPb"
      },
      "execution_count": null,
      "outputs": []
    },
    {
      "cell_type": "code",
      "source": [
        "df17_18 = pd.DataFrame(df17_18, columns=['Date', 'Tweets'])"
      ],
      "metadata": {
        "id": "1ZzYOUdpceRI"
      },
      "execution_count": null,
      "outputs": []
    },
    {
      "cell_type": "code",
      "source": [
        "df17_18[\"sentiment_pos\"]=0\n",
        "df17_18[\"sentiment_neg\"]=0\n",
        "df17_18[\"sentiment_neu\"]=0\n",
        "for i in range(len(df17_18[\"Tweets\"])):\n",
        "  sentiment= tone_count_with_negation_check(lmdict,df17_18[\"Tweets\"][i])\n",
        "  if sentiment==1:\n",
        "    df17_18[\"sentiment_pos\"][i]+=1\n",
        "  if sentiment==-1:\n",
        "    df17_18[\"sentiment_neg\"][i]+=1\n",
        "  if sentiment==0:\n",
        "    df17_18[\"sentiment_neu\"][i]+=1"
      ],
      "metadata": {
        "id": "sbYQqiAaafFP"
      },
      "execution_count": null,
      "outputs": []
    },
    {
      "cell_type": "code",
      "source": [
        "df17_18['Date'] = pd.to_datetime(df17_18.Date, format='%Y-%m-%d %H:%M:%S')\n",
        "df17_18[\"day\"]=df17_18[\"Date\"].dt.strftime('%y-%m-%d')\n",
        "df17_18[\"hours\"]=df17_18[\"Date\"].dt.strftime('%y-%m-%d %H')"
      ],
      "metadata": {
        "id": "4udG586QcmlU"
      },
      "execution_count": null,
      "outputs": []
    },
    {
      "cell_type": "code",
      "source": [
        "tweets_day=pd.DataFrame(df17_18.groupby(['day'])[\"sentiment_pos\",\"sentiment_neg\",\"sentiment_neu\"].sum())\n",
        "tweets_day.reset_index(inplace=True)\n",
        "tweets_hours=pd.DataFrame(df17_18.groupby(['hours'])[\"sentiment_pos\",\"sentiment_neg\"].sum())\n",
        "tweets_hours.reset_index(inplace=True)"
      ],
      "metadata": {
        "id": "yTucF4lVdZnQ"
      },
      "execution_count": null,
      "outputs": []
    },
    {
      "cell_type": "code",
      "source": [
        "tweets_day=tweets_day[0:215]\n",
        "tweets_day[\"total_tweets\"]=tweets_day[\"sentiment_pos\"]+tweets_day[\"sentiment_neg\"]+tweets_day[\"sentiment_neu\"]"
      ],
      "metadata": {
        "id": "hI9ojOmedozX"
      },
      "execution_count": null,
      "outputs": []
    },
    {
      "cell_type": "code",
      "source": [
        "tweets_day.head()"
      ],
      "metadata": {
        "id": "M1vK0AgadtZi"
      },
      "execution_count": null,
      "outputs": []
    },
    {
      "cell_type": "code",
      "source": [
        "tweets_day.to_csv(\"tweets_SentimentScore_2017-2018.csv\")"
      ],
      "metadata": {
        "id": "CwNwjlQfgBpj"
      },
      "execution_count": null,
      "outputs": []
    },
    {
      "cell_type": "markdown",
      "source": [
        "## 2018-2019"
      ],
      "metadata": {
        "id": "kmFQGKIGgxYC"
      }
    },
    {
      "cell_type": "code",
      "source": [
        "df18_19 = pd.read_csv(\"tweets_CryptoPunk_2018-2019.csv\")"
      ],
      "metadata": {
        "id": "zjjxUNizggxc"
      },
      "execution_count": null,
      "outputs": []
    },
    {
      "cell_type": "code",
      "source": [
        "df18_19 = pd.DataFrame(df18_19, columns=['Date', 'Tweets'])"
      ],
      "metadata": {
        "id": "b-gcHNAIggxd"
      },
      "execution_count": null,
      "outputs": []
    },
    {
      "cell_type": "code",
      "source": [
        "df18_19[\"sentiment_pos\"]=0\n",
        "df18_19[\"sentiment_neg\"]=0\n",
        "df18_19[\"sentiment_neu\"]=0\n",
        "for i in range(len(df18_19[\"Tweets\"])):\n",
        "  sentiment= tone_count_with_negation_check(lmdict,df18_19[\"Tweets\"][i])\n",
        "  if sentiment==1:\n",
        "    df18_19[\"sentiment_pos\"][i]+=1\n",
        "  if sentiment==-1:\n",
        "    df18_19[\"sentiment_neg\"][i]+=1\n",
        "  if sentiment==0:\n",
        "    df18_19[\"sentiment_neu\"][i]+=1"
      ],
      "metadata": {
        "id": "Ks8T996Mggxe"
      },
      "execution_count": null,
      "outputs": []
    },
    {
      "cell_type": "code",
      "source": [
        "df18_19['Date'] = pd.to_datetime(df18_19.Date, format='%Y-%m-%d %H:%M:%S')\n",
        "df18_19[\"day\"]=df18_19[\"Date\"].dt.strftime('%y-%m-%d')\n",
        "df18_19[\"hours\"]=df18_19[\"Date\"].dt.strftime('%y-%m-%d %H')"
      ],
      "metadata": {
        "id": "qOeT64Acggxg"
      },
      "execution_count": null,
      "outputs": []
    },
    {
      "cell_type": "code",
      "source": [
        "tweets_day=pd.DataFrame(df18_19.groupby(['day'])[\"sentiment_pos\",\"sentiment_neg\",\"sentiment_neu\"].sum())\n",
        "tweets_day.reset_index(inplace=True)\n",
        "tweets_hours=pd.DataFrame(df18_19.groupby(['hours'])[\"sentiment_pos\",\"sentiment_neg\"].sum())\n",
        "tweets_hours.reset_index(inplace=True)"
      ],
      "metadata": {
        "id": "U9GxDQGSggxh"
      },
      "execution_count": null,
      "outputs": []
    },
    {
      "cell_type": "code",
      "source": [
        "tweets_day=tweets_day[0:215]\n",
        "tweets_day[\"total_tweets\"]=tweets_day[\"sentiment_pos\"]+tweets_day[\"sentiment_neg\"]+tweets_day[\"sentiment_neu\"]"
      ],
      "metadata": {
        "id": "taRWwc3zggxi"
      },
      "execution_count": null,
      "outputs": []
    },
    {
      "cell_type": "code",
      "source": [
        "tweets_day.head()"
      ],
      "metadata": {
        "id": "yXZqJw0wggxj"
      },
      "execution_count": null,
      "outputs": []
    },
    {
      "cell_type": "code",
      "source": [
        "tweets_day.to_csv(\"tweets_SentimentScore_2018-2019.csv\")"
      ],
      "metadata": {
        "id": "G604ot8rggxk"
      },
      "execution_count": null,
      "outputs": []
    },
    {
      "cell_type": "markdown",
      "source": [
        "## 2019-2020"
      ],
      "metadata": {
        "id": "8Xeuk6uN3V17"
      }
    },
    {
      "cell_type": "code",
      "source": [
        "df19_20 = pd.read_csv(\"tweets_CryptoPunk_2019-2020.csv\")"
      ],
      "metadata": {
        "id": "0tpkBEWa3c5a"
      },
      "execution_count": null,
      "outputs": []
    },
    {
      "cell_type": "code",
      "source": [
        "df19_20 = pd.DataFrame(df19_20, columns=['Date', 'Tweets'])"
      ],
      "metadata": {
        "id": "r6vUxhIR3c5a"
      },
      "execution_count": null,
      "outputs": []
    },
    {
      "cell_type": "code",
      "source": [
        "df19_20[\"sentiment_pos\"]=0\n",
        "df19_20[\"sentiment_neg\"]=0\n",
        "df19_20[\"sentiment_neu\"]=0\n",
        "for i in range(len(df19_20[\"Tweets\"])):\n",
        "  sentiment= tone_count_with_negation_check(lmdict,df19_20[\"Tweets\"][i])\n",
        "  if sentiment==1:\n",
        "    df19_20[\"sentiment_pos\"][i]+=1\n",
        "  if sentiment==-1:\n",
        "    df19_20[\"sentiment_neg\"][i]+=1\n",
        "  if sentiment==0:\n",
        "    df19_20[\"sentiment_neu\"][i]+=1"
      ],
      "metadata": {
        "id": "dKQkuSVo3c5b"
      },
      "execution_count": null,
      "outputs": []
    },
    {
      "cell_type": "code",
      "source": [
        "df19_20['Date'] = pd.to_datetime(df19_20.Date, format='%Y-%m-%d %H:%M:%S')\n",
        "df19_20[\"day\"]=df19_20[\"Date\"].dt.strftime('%y-%m-%d')\n",
        "df19_20[\"hours\"]=df19_20[\"Date\"].dt.strftime('%y-%m-%d %H')"
      ],
      "metadata": {
        "id": "4YuLZwxw3c5b"
      },
      "execution_count": null,
      "outputs": []
    },
    {
      "cell_type": "code",
      "source": [
        "tweets_day=pd.DataFrame(df19_20.groupby(['day'])[\"sentiment_pos\",\"sentiment_neg\",\"sentiment_neu\"].sum())\n",
        "tweets_day.reset_index(inplace=True)\n",
        "tweets_hours=pd.DataFrame(df19_20.groupby(['hours'])[\"sentiment_pos\",\"sentiment_neg\"].sum())\n",
        "tweets_hours.reset_index(inplace=True)"
      ],
      "metadata": {
        "id": "U4baxL8j3c5c"
      },
      "execution_count": null,
      "outputs": []
    },
    {
      "cell_type": "code",
      "source": [
        "tweets_day=tweets_day[0:215]\n",
        "tweets_day[\"total_tweets\"]=tweets_day[\"sentiment_pos\"]+tweets_day[\"sentiment_neg\"]+tweets_day[\"sentiment_neu\"]"
      ],
      "metadata": {
        "id": "kvryFZx13c5c"
      },
      "execution_count": null,
      "outputs": []
    },
    {
      "cell_type": "code",
      "source": [
        "tweets_day.head()"
      ],
      "metadata": {
        "id": "Fz9taHD23c5c"
      },
      "execution_count": null,
      "outputs": []
    },
    {
      "cell_type": "code",
      "source": [
        "tweets_day.to_csv(\"tweets_SentimentScore_2019-2020.csv\")"
      ],
      "metadata": {
        "id": "KnAF1hal3c5c"
      },
      "execution_count": null,
      "outputs": []
    },
    {
      "cell_type": "markdown",
      "source": [
        "## 2020-2021"
      ],
      "metadata": {
        "id": "9UOkpzje6HaB"
      }
    },
    {
      "cell_type": "code",
      "source": [
        "df20_21 = pd.read_csv(\"tweets_CryptoPunk_2020-2021.csv\")"
      ],
      "metadata": {
        "id": "FuFqEVwF6HaC"
      },
      "execution_count": null,
      "outputs": []
    },
    {
      "cell_type": "code",
      "source": [
        "df20_21 = pd.DataFrame(df20_21, columns=['Date', 'Tweets'])"
      ],
      "metadata": {
        "id": "AXNEw9726HaC"
      },
      "execution_count": null,
      "outputs": []
    },
    {
      "cell_type": "code",
      "source": [
        "df20_21[\"sentiment_pos\"]=0\n",
        "df20_21[\"sentiment_neg\"]=0\n",
        "df20_21[\"sentiment_neu\"]=0\n",
        "for i in range(len(df20_21[\"Tweets\"])):\n",
        "  sentiment= tone_count_with_negation_check(lmdict,df20_21[\"Tweets\"][i])\n",
        "  if sentiment==1:\n",
        "    df20_21[\"sentiment_pos\"][i]+=1\n",
        "  if sentiment==-1:\n",
        "    df20_21[\"sentiment_neg\"][i]+=1\n",
        "  if sentiment==0:\n",
        "    df20_21[\"sentiment_neu\"][i]+=1"
      ],
      "metadata": {
        "id": "N3Z6gpei6HaC"
      },
      "execution_count": null,
      "outputs": []
    },
    {
      "cell_type": "code",
      "source": [
        "df20_21['Date'] = pd.to_datetime(df20_21.Date, format='%Y-%m-%d %H:%M:%S')\n",
        "df20_21[\"day\"]=df20_21[\"Date\"].dt.strftime('%y-%m-%d')\n",
        "df20_21[\"hours\"]=df20_21[\"Date\"].dt.strftime('%y-%m-%d %H')"
      ],
      "metadata": {
        "id": "KfFu3eAm6HaC"
      },
      "execution_count": null,
      "outputs": []
    },
    {
      "cell_type": "code",
      "source": [
        "tweets_day=pd.DataFrame(df20_21.groupby(['day'])[\"sentiment_pos\",\"sentiment_neg\",\"sentiment_neu\"].sum())\n",
        "tweets_day.reset_index(inplace=True)\n",
        "tweets_hours=pd.DataFrame(df20_21.groupby(['hours'])[\"sentiment_pos\",\"sentiment_neg\"].sum())\n",
        "tweets_hours.reset_index(inplace=True)"
      ],
      "metadata": {
        "id": "eifiKeoL6HaC"
      },
      "execution_count": null,
      "outputs": []
    },
    {
      "cell_type": "code",
      "source": [
        "tweets_day=tweets_day[0:215]\n",
        "tweets_day[\"total_tweets\"]=tweets_day[\"sentiment_pos\"]+tweets_day[\"sentiment_neg\"]+tweets_day[\"sentiment_neu\"]"
      ],
      "metadata": {
        "id": "Wf6M0cOq6HaD"
      },
      "execution_count": null,
      "outputs": []
    },
    {
      "cell_type": "code",
      "source": [
        "tweets_day.head()"
      ],
      "metadata": {
        "id": "f7OYDywK6HaD"
      },
      "execution_count": null,
      "outputs": []
    },
    {
      "cell_type": "code",
      "source": [
        "tweets_day.to_csv(\"tweets_SentimentScore_2020-2021.csv\")"
      ],
      "metadata": {
        "id": "S6aVX0nG6HaD"
      },
      "execution_count": null,
      "outputs": []
    },
    {
      "cell_type": "markdown",
      "source": [
        "#Sentiment Score 2017-2021"
      ],
      "metadata": {
        "id": "dR3sDHE-9u94"
      }
    },
    {
      "cell_type": "code",
      "source": [
        "df_new = pd.read_csv('https://raw.githubusercontent.com/SunYutongAmber/Cryptopunks_tweets_data_analysis/main/data/cleaned_cryptopunk_tweets_data.csv')"
      ],
      "metadata": {
        "id": "PR2zIzDh9vVW"
      },
      "execution_count": null,
      "outputs": []
    },
    {
      "cell_type": "code",
      "source": [
        "df_new = pd.DataFrame(df_new, columns=['Date', 'Tweets'])"
      ],
      "metadata": {
        "id": "rH3XF2JB-AdQ"
      },
      "execution_count": null,
      "outputs": []
    },
    {
      "cell_type": "code",
      "source": [
        "df_new[\"sentiment_pos\"]=0\n",
        "df_new[\"sentiment_neg\"]=0\n",
        "df_new[\"sentiment_neu\"]=0\n",
        "for i in range(len(df_new[\"Tweets\"])):\n",
        "  sentiment= tone_count_with_negation_check(lmdict,df_new[\"Tweets\"][i])\n",
        "  if sentiment==1:\n",
        "    df_new[\"sentiment_pos\"][i]+=1\n",
        "  if sentiment==-1:\n",
        "    df_new[\"sentiment_neg\"][i]+=1\n",
        "  if sentiment==0:\n",
        "    df_new[\"sentiment_neu\"][i]+=1"
      ],
      "metadata": {
        "id": "k2kcR8u0-HCi"
      },
      "execution_count": null,
      "outputs": []
    },
    {
      "cell_type": "code",
      "source": [
        "df_new['Date'] = pd.to_datetime(df_new.Date, format='%Y-%m-%d %H:%M:%S')\n",
        "df_new[\"day\"]=df_new[\"Date\"].dt.strftime('%y-%m-%d')\n",
        "df_new[\"hours\"]=df_new[\"Date\"].dt.strftime('%y-%m-%d %H')"
      ],
      "metadata": {
        "id": "4Zggo_PU-HCj"
      },
      "execution_count": null,
      "outputs": []
    },
    {
      "cell_type": "code",
      "source": [
        "tweets_day=pd.DataFrame(df_new.groupby(['day'])[\"sentiment_pos\",\"sentiment_neg\",\"sentiment_neu\"].sum())\n",
        "tweets_day.reset_index(inplace=True)\n",
        "tweets_hours=pd.DataFrame(df_new.groupby(['hours'])[\"sentiment_pos\",\"sentiment_neg\"].sum())\n",
        "tweets_hours.reset_index(inplace=True)"
      ],
      "metadata": {
        "id": "fw7tKf8G-HCj"
      },
      "execution_count": null,
      "outputs": []
    },
    {
      "cell_type": "code",
      "source": [
        "tweets_day=tweets_day[0:600]\n",
        "tweets_day[\"total_tweets\"]=tweets_day[\"sentiment_pos\"]+tweets_day[\"sentiment_neg\"]+tweets_day[\"sentiment_neu\"]"
      ],
      "metadata": {
        "id": "2uWb7rbh-HCj"
      },
      "execution_count": null,
      "outputs": []
    },
    {
      "cell_type": "code",
      "source": [
        "tweets_day.tail()"
      ],
      "metadata": {
        "id": "YEP7XP5R-HCj"
      },
      "execution_count": null,
      "outputs": []
    },
    {
      "cell_type": "code",
      "source": [
        "tweets_day.to_csv(\"tweets_SentimentScore_new.csv\")"
      ],
      "metadata": {
        "id": "U73cXbrE-thl"
      },
      "execution_count": null,
      "outputs": []
    }
  ],
  "metadata": {
    "colab": {
      "provenance": [],
      "toc_visible": true
    },
    "kernelspec": {
      "display_name": "Python 3",
      "name": "python3"
    },
    "language_info": {
      "name": "python"
    }
  },
  "nbformat": 4,
  "nbformat_minor": 0
}